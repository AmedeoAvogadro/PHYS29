{
 "cells": [
  {
   "cell_type": "markdown",
   "source": [
    "Yizhi Jiao\n",
    "PHYS 29\n",
    "Homework 9"
   ],
   "metadata": {
    "collapsed": false,
    "pycharm": {
     "name": "#%% md\n"
    }
   }
  },
  {
   "cell_type": "code",
   "execution_count": 296,
   "outputs": [],
   "source": [
    "import numpy as np\n",
    "from matplotlib import pyplot as plt\n",
    "from scipy import optimize\n",
    "from scipy import misc"
   ],
   "metadata": {
    "collapsed": false,
    "pycharm": {
     "name": "#%%\n"
    }
   }
  },
  {
   "cell_type": "markdown",
   "source": [
    "Problem 1"
   ],
   "metadata": {
    "collapsed": false,
    "pycharm": {
     "name": "#%% md\n"
    }
   },
   "outputs": [
    {
     "ename": "SyntaxError",
     "evalue": "invalid syntax (384267225.py, line 1)",
     "output_type": "error",
     "traceback": [
      "\u001B[1;36m  Input \u001B[1;32mIn [1]\u001B[1;36m\u001B[0m\n\u001B[1;33m    Problem 1\u001B[0m\n\u001B[1;37m            ^\u001B[0m\n\u001B[1;31mSyntaxError\u001B[0m\u001B[1;31m:\u001B[0m invalid syntax\n"
     ]
    }
   ],
   "execution_count": 1
  },
  {
   "cell_type": "code",
   "execution_count": 297,
   "outputs": [
    {
     "data": {
      "text/plain": "Text(0.5, 1.0, 'x vs t')"
     },
     "execution_count": 297,
     "metadata": {},
     "output_type": "execute_result"
    },
    {
     "data": {
      "text/plain": "<Figure size 432x288 with 1 Axes>",
      "image/png": "[encoded data removed]"
     },
     "metadata": {
      "needs_background": "light"
     },
     "output_type": "display_data"
    }
   ],
   "source": [
    "data = np.loadtxt('HW9Problem1data.txt')\n",
    "t = data[:, 0]\n",
    "x = data[:, 1]\n",
    "err = data[:, 2]\n",
    "plt.errorbar(t, x, yerr=err, linestyle=' ', marker='o')\n",
    "plt.xlabel('t')\n",
    "plt.ylabel('x')\n",
    "plt.title('x vs t')"
   ],
   "metadata": {
    "collapsed": false,
    "pycharm": {
     "name": "#%%\n"
    }
   }
  },
  {
   "cell_type": "markdown",
   "source": [
    "$b(t) = -\\frac{1}{2}\\frac{g\\sin(\\alpha)t^2}{x(t)-x(0)}-1$"
   ],
   "metadata": {
    "collapsed": false,
    "pycharm": {
     "name": "#%% md\n"
    }
   }
  },
  {
   "cell_type": "code",
   "execution_count": 298,
   "outputs": [],
   "source": [
    "def b_(x_, t_):\n",
    "    return -0.5 * 9.8 * np.sin(40/180*np.pi) * t_**2 / (x_-5) -1\n",
    "b = b_(x,t)\n",
    "berr = np.abs(misc.derivative(b_, x, dx=1e-6, args=(t,))) * err"
   ],
   "metadata": {
    "collapsed": false,
    "pycharm": {
     "name": "#%%\n"
    }
   }
  },
  {
   "cell_type": "code",
   "execution_count": 299,
   "outputs": [
    {
     "data": {
      "text/plain": "Text(0.5, 1.0, 'b vs t')"
     },
     "execution_count": 299,
     "metadata": {},
     "output_type": "execute_result"
    },
    {
     "data": {
      "text/plain": "<Figure size 432x288 with 1 Axes>",
      "image/png": "[encoded data removed]"
     },
     "metadata": {
      "needs_background": "light"
     },
     "output_type": "display_data"
    }
   ],
   "source": [
    "plt.errorbar(t, b, yerr=berr, linestyle=' ', marker='o')\n",
    "plt.xlabel('t')\n",
    "plt.ylabel('b')\n",
    "plt.title('b vs t')"
   ],
   "metadata": {
    "collapsed": false,
    "pycharm": {
     "name": "#%%\n"
    }
   }
  },
  {
   "cell_type": "code",
   "execution_count": 300,
   "outputs": [
    {
     "name": "stdout",
     "output_type": "stream",
     "text": [
      "mean: 0.5106799282611002\n",
      "standard deviation: 0.03580786006427504\n"
     ]
    }
   ],
   "source": [
    "mean = np.sum(b/berr**2)/np.sum(1/berr**2)\n",
    "sd = np.sqrt(1/(np.sum(1/berr**2)))\n",
    "print('mean: {}\\nstandard deviation: {}'.format(mean, sd))"
   ],
   "metadata": {
    "collapsed": false,
    "pycharm": {
     "name": "#%%\n"
    }
   }
  },
  {
   "cell_type": "markdown",
   "source": [
    "Problem 2"
   ],
   "metadata": {
    "collapsed": false,
    "pycharm": {
     "name": "#%% md\n"
    }
   }
  },
  {
   "cell_type": "code",
   "execution_count": 301,
   "outputs": [
    {
     "data": {
      "text/plain": "Text(0.5, 1.0, '$F_\\\\nu$ vs $\\\\nu$')"
     },
     "execution_count": 301,
     "metadata": {},
     "output_type": "execute_result"
    },
    {
     "data": {
      "text/plain": "<Figure size 432x288 with 1 Axes>",
      "image/png": "[encoded data removed]"
     },
     "metadata": {
      "needs_background": "light"
     },
     "output_type": "display_data"
    }
   ],
   "source": [
    "data = np.loadtxt('HW9Problem2data.txt')\n",
    "nu = data[:, 0]\n",
    "f = data[:, 1]\n",
    "err = data[:, 2]\n",
    "plt.errorbar(nu, f, yerr=err, linestyle=' ', marker='o')\n",
    "plt.xlabel('$\\\\nu$')\n",
    "plt.ylabel('$F_\\\\nu$')\n",
    "plt.title('$F_\\\\nu$ vs $\\\\nu$')"
   ],
   "metadata": {
    "collapsed": false,
    "pycharm": {
     "name": "#%%\n"
    }
   }
  },
  {
   "cell_type": "code",
   "execution_count": 302,
   "outputs": [
    {
     "name": "stdout",
     "output_type": "stream",
     "text": [
      "a: \n",
      "value:-0.10295752397279825 and uncertainty: 0.001096578335621046\n",
      "b: \n",
      "value:6.511611910020317 and uncertainty: 0.29617209021389695\n",
      "c: \n",
      "value:-6.889451291134039 and uncertainty: 3.6133077224801244\n"
     ]
    }
   ],
   "source": [
    "def model_1(n, a, b, c):return a*n**2+b*n+c\n",
    "par, var = optimize.curve_fit(model_1, nu, f, sigma=err)\n",
    "print('a: \\nvalue:{} and uncertainty: {}\\nb: \\nvalue:{} and uncertainty: {}\\nc: \\nvalue:{} and uncertainty: {}'.format(par[0], var[0,0], par[1],var[1,1], par[2], var[2,2]))"
   ],
   "metadata": {
    "collapsed": false,
    "pycharm": {
     "name": "#%%\n"
    }
   }
  },
  {
   "cell_type": "code",
   "execution_count": 303,
   "outputs": [
    {
     "name": "stdout",
     "output_type": "stream",
     "text": [
      "Reduced Chi-squared: 1.7084040136159973\n"
     ]
    }
   ],
   "source": [
    "chisq_1 = sum((f-model_1(nu,par[0],par[1],par[2]))**2/err**2)/(25-3)\n",
    "print('Reduced Chi-squared: {}'.format(chisq_1))"
   ],
   "metadata": {
    "collapsed": false,
    "pycharm": {
     "name": "#%%\n"
    }
   }
  },
  {
   "cell_type": "code",
   "execution_count": 304,
   "outputs": [
    {
     "data": {
      "text/plain": "Text(0.5, 1.0, 'Parabolic')"
     },
     "execution_count": 304,
     "metadata": {},
     "output_type": "execute_result"
    },
    {
     "data": {
      "text/plain": "<Figure size 432x288 with 1 Axes>",
      "image/png": "[encoded data removed]"
     },
     "metadata": {
      "needs_background": "light"
     },
     "output_type": "display_data"
    }
   ],
   "source": [
    "plt.errorbar(nu, f, yerr=err, linestyle=' ', marker='o')\n",
    "plt.plot(np.linspace(0,15), model_1(np.linspace(0,15), par[0], par[1], par[2]))\n",
    "plt.xlabel('$\\\\nu$')\n",
    "plt.ylabel('$F_\\\\nu$')\n",
    "plt.title('Parabolic')"
   ],
   "metadata": {
    "collapsed": false,
    "pycharm": {
     "name": "#%%\n"
    }
   }
  },
  {
   "cell_type": "code",
   "execution_count": 305,
   "outputs": [
    {
     "name": "stdout",
     "output_type": "stream",
     "text": [
      "A: \n",
      "value:1.7572440458884981 and uncertainty: 0.12589546839902485\n",
      "alpha: \n",
      "value:1.8444996696875195 and uncertainty: 0.026490240082972818\n",
      "nu0: \n",
      "value:10.925907273019057 and uncertainty: 4.235657124543236\n"
     ]
    }
   ],
   "source": [
    "def model_2(n, A, alpha, n0):return A * n**alpha * np.exp(-n/n0)\n",
    "par, var = optimize.curve_fit(model_2, nu, f, sigma=err)\n",
    "print('A: \\nvalue:{} and uncertainty: {}\\nalpha: \\nvalue:{} and uncertainty: {}\\nnu0: \\nvalue:{} and uncertainty: {}'.format(par[0], var[0,0], par[1],var[1,1], par[2], var[2,2]))"
   ],
   "metadata": {
    "collapsed": false,
    "pycharm": {
     "name": "#%%\n"
    }
   }
  },
  {
   "cell_type": "code",
   "execution_count": 306,
   "outputs": [
    {
     "name": "stdout",
     "output_type": "stream",
     "text": [
      "Reduced Chi-squared: 1.0923174561644269\n"
     ]
    }
   ],
   "source": [
    "chisq_2 = sum((f-model_2(nu,par[0],par[1],par[2]))**2/err**2)/(25-3)\n",
    "print('Reduced Chi-squared: {}'.format(chisq_2))"
   ],
   "metadata": {
    "collapsed": false,
    "pycharm": {
     "name": "#%%\n"
    }
   }
  },
  {
   "cell_type": "code",
   "execution_count": 307,
   "outputs": [
    {
     "data": {
      "text/plain": "Text(0.5, 1.0, 'Therm')"
     },
     "execution_count": 307,
     "metadata": {},
     "output_type": "execute_result"
    },
    {
     "data": {
      "text/plain": "<Figure size 432x288 with 1 Axes>",
      "image/png": "[encoded data removed]"
     },
     "metadata": {
      "needs_background": "light"
     },
     "output_type": "display_data"
    }
   ],
   "source": [
    "plt.errorbar(nu, f, yerr=err, linestyle=' ', marker='o')\n",
    "plt.plot(np.linspace(0,15), model_2(np.linspace(0,15), par[0], par[1], par[2]))\n",
    "plt.xlabel('$\\\\nu$')\n",
    "plt.ylabel('$F_\\\\nu$')\n",
    "plt.title('Therm')"
   ],
   "metadata": {
    "collapsed": false,
    "pycharm": {
     "name": "#%%\n"
    }
   }
  },
  {
   "cell_type": "markdown",
   "source": [
    "The latter model has smaller chi-squared value, so the therm model provides the best fit."
   ],
   "metadata": {
    "collapsed": false,
    "pycharm": {
     "name": "#%% md\n"
    }
   }
  },
  {
   "cell_type": "code",
   "execution_count": 307,
   "outputs": [],
   "source": [],
   "metadata": {
    "collapsed": false,
    "pycharm": {
     "name": "#%%\n"
    }
   }
  }
 ],
 "metadata": {
  "kernelspec": {
   "display_name": "Python 3",
   "language": "python",
   "name": "python3"
  },
  "language_info": {
   "codemirror_mode": {
    "name": "ipython",
    "version": 2
   },
   "file_extension": ".py",
   "mimetype": "text/x-python",
   "name": "python",
   "nbconvert_exporter": "python",
   "pygments_lexer": "ipython2",
   "version": "2.7.6"
  }
 },
 "nbformat": 4,
 "nbformat_minor": 0
}