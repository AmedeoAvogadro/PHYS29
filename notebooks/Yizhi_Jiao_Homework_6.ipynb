{
 "cells": [
  {
   "cell_type": "markdown",
   "source": [
    "PHYS 29\n",
    "Yizhi Jiao\n",
    "Homework 6"
   ],
   "metadata": {
    "collapsed": false,
    "pycharm": {
     "name": "#%% md\n"
    }
   }
  },
  {
   "cell_type": "markdown",
   "source": [
    "Problem 1a"
   ],
   "metadata": {
    "collapsed": false,
    "pycharm": {
     "name": "#%% md\n"
    }
   }
  },
  {
   "cell_type": "code",
   "execution_count": 99,
   "outputs": [],
   "source": [
    "import matplotlib.pyplot as plt\n",
    "import numpy as np\n",
    "from scipy import optimize as opt\n",
    "import warnings\n",
    "warnings.filterwarnings('ignore')"
   ],
   "metadata": {
    "collapsed": false,
    "pycharm": {
     "name": "#%%\n"
    }
   }
  },
  {
   "cell_type": "code",
   "execution_count": 100,
   "outputs": [
    {
     "data": {
      "text/plain": "<Figure size 432x288 with 1 Axes>",
      "image/png": "[encoded data removed]"
     },
     "metadata": {
      "needs_background": "light"
     },
     "output_type": "display_data"
    }
   ],
   "source": [
    "v = np.linspace(0,15**0.5,100000)\n",
    "def f_1(x): return (15-x**2)**0.5\n",
    "def f_2a(x): return x*np.tan(x)\n",
    "def f_2b(x): return -x/np.tan(x)\n",
    "def delta_a(x): return (15-x**2)**0.5-x*np.tan(x)\n",
    "def delta_b(x): return (15-x**2)**0.5-(-x/np.tan(x))\n",
    "plt.title(\"Dot Plot of $f_1$, $f_{2a}$, and $f_{2b}$\")\n",
    "plt.plot(v, f_1(v), '.', color =\"r\", label=\"$f_1(v)$\")\n",
    "plt.plot(v, f_2a(v), '.', color =\"g\", label=\"$f_{2a}(v)$\")\n",
    "plt.plot(v, f_2b(v), '.', color =\"b\", label=\"$f_{2b}(v)$\")\n",
    "plt.xlim(0,np.sqrt(15))\n",
    "plt.ylim(0,15**0.5)\n",
    "plt.legend(loc='upper center')\n",
    "plt.ylabel('f')\n",
    "plt.xlabel('v')\n",
    "plt.show()"
   ],
   "metadata": {
    "collapsed": false,
    "pycharm": {
     "name": "#%%\n"
    }
   }
  },
  {
   "cell_type": "markdown",
   "source": [
    "As the dot plot shows, there are three intersects."
   ],
   "metadata": {
    "collapsed": false,
    "pycharm": {
     "name": "#%% md\n"
    }
   }
  },
  {
   "cell_type": "markdown",
   "source": [
    "Problem 1b"
   ],
   "metadata": {
    "collapsed": false,
    "pycharm": {
     "name": "#%% md\n"
    }
   }
  },
  {
   "cell_type": "code",
   "execution_count": 101,
   "outputs": [
    {
     "name": "stdout",
     "output_type": "stream",
     "text": [
      "Bisect\n",
      "intersect 1: v =  1.243843303227678 and E =  3.094292325968683\n",
      "intersect 2: v =  2.455026478354211 and E =  12.054310018840559\n",
      "intersect 3: v =  3.5517502816916076 and E =  25.229860126992826\n"
     ]
    }
   ],
   "source": [
    "print(\"Bisect\")\n",
    "print(\"intersect 1: v = \",opt.bisect(delta_a,1e-19,np.pi/2-1e-19), \"and E = \", 2*opt.bisect(delta_a,1e-19,np.pi/2-1e-19)**2)\n",
    "print(\"intersect 2: v = \",opt.bisect(delta_b,np.pi/2+1e-19,np.pi), \"and E = \", 2*opt.bisect(delta_b,np.pi/2+1e-19,np.pi)**2)\n",
    "print(\"intersect 3: v = \",opt.bisect(delta_a,np.pi,15**0.5), \"and E = \", 2*opt.bisect(delta_a,np.pi,15**0.5)**2)"
   ],
   "metadata": {
    "collapsed": false,
    "pycharm": {
     "name": "#%%\n"
    }
   }
  },
  {
   "cell_type": "code",
   "execution_count": 102,
   "outputs": [
    {
     "data": {
      "text/plain": "<Figure size 432x288 with 1 Axes>",
      "image/png": "[encoded data removed]"
     },
     "metadata": {
      "needs_background": "light"
     },
     "output_type": "display_data"
    }
   ],
   "source": [
    "plt.title(\"Dot Plot of $f_1$, $f_{2a}$, and $f_{2b}$\")\n",
    "plt.plot(v, f_1(v), '.', color =\"r\", label=\"$f_1(v)$\")\n",
    "plt.plot(v, f_2a(v), '.', color =\"g\", label=\"$f_{2a}(v)$\")\n",
    "plt.plot(v, f_2b(v), '.', color =\"b\", label=\"$f_{2b}(v)$\")\n",
    "plt.plot(opt.bisect(delta_a,1e-19,np.pi/2-1e-19),f_1(opt.bisect(delta_a,1e-19,np.pi/2-1e-19)), '.', color =\"k\", markersize  = 15)\n",
    "plt.plot(opt.bisect(delta_b,np.pi/2+1e-19,np.pi),f_1(opt.bisect(delta_b,np.pi/2+1e-19,np.pi)), '.', color =\"k\", markersize  = 15)\n",
    "plt.plot(opt.bisect(delta_a,np.pi,15**0.5),f_1(opt.bisect(delta_a,np.pi,15**0.5)), '.', color =\"k\", markersize  = 15)\n",
    "plt.xlim(0,np.sqrt(15))\n",
    "plt.ylim(0,15**0.5)\n",
    "plt.legend(loc='upper center')\n",
    "plt.ylabel('f')\n",
    "plt.xlabel('v')\n",
    "plt.show()\n"
   ],
   "metadata": {
    "collapsed": false,
    "pycharm": {
     "name": "#%%\n"
    }
   }
  },
  {
   "cell_type": "markdown",
   "source": [
    "Problem 2"
   ],
   "metadata": {
    "collapsed": false,
    "pycharm": {
     "name": "#%% md\n"
    }
   }
  },
  {
   "cell_type": "code",
   "execution_count": 103,
   "outputs": [],
   "source": [
    "h=6.626e-34\n",
    "k_B=1.380649e-23\n",
    "c=np.longdouble(299792458)\n",
    "def F_nu(T, nu):\n",
    "    return 2*np.pi*h*np.power(nu,3)/np.power(c,2)*(1/(np.exp(h*nu/(k_B*T))-1))"
   ],
   "metadata": {
    "collapsed": false,
    "pycharm": {
     "name": "#%%\n"
    }
   }
  },
  {
   "cell_type": "code",
   "execution_count": 104,
   "outputs": [],
   "source": [
    "def F_1(nu): return F_nu(310.15,nu)\n",
    "def F_2(nu): return F_nu(5778, nu)\n",
    "def deriv_center(f, x, h):\n",
    "    return (f(x + h) - f(x - h)) / (2 * h)"
   ],
   "metadata": {
    "collapsed": false,
    "pycharm": {
     "name": "#%%\n"
    }
   }
  },
  {
   "cell_type": "code",
   "execution_count": 109,
   "outputs": [
    {
     "ename": "TypeError",
     "evalue": "'numpy.ndarray' object is not callable",
     "output_type": "error",
     "traceback": [
      "\u001B[1;31m---------------------------------------------------------------------------\u001B[0m",
      "\u001B[1;31mTypeError\u001B[0m                                 Traceback (most recent call last)",
      "Input \u001B[1;32mIn [109]\u001B[0m, in \u001B[0;36m<cell line: 2>\u001B[1;34m()\u001B[0m\n\u001B[0;32m      1\u001B[0m x \u001B[38;5;241m=\u001B[39m np\u001B[38;5;241m.\u001B[39mlinspace(\u001B[38;5;241m1\u001B[39m\u001B[38;5;241m*\u001B[39m\u001B[38;5;241m10\u001B[39m\u001B[38;5;241m*\u001B[39m\u001B[38;5;241m*\u001B[39m\u001B[38;5;241m5\u001B[39m,\u001B[38;5;241m1\u001B[39m\u001B[38;5;241m*\u001B[39m\u001B[38;5;241m10\u001B[39m\u001B[38;5;241m*\u001B[39m\u001B[38;5;241m*\u001B[39m\u001B[38;5;241m16\u001B[39m,\u001B[38;5;241m100001\u001B[39m)\n\u001B[1;32m----> 2\u001B[0m max_1 \u001B[38;5;241m=\u001B[39m np\u001B[38;5;241m.\u001B[39mmax(\u001B[43mF_1\u001B[49m\u001B[43m(\u001B[49m\u001B[43mx\u001B[49m\u001B[43m)\u001B[49m)\n\u001B[0;32m      3\u001B[0m max_2 \u001B[38;5;241m=\u001B[39m np\u001B[38;5;241m.\u001B[39mmax(F_2(x))\n\u001B[0;32m      4\u001B[0m max_in_1 \u001B[38;5;241m=\u001B[39m np\u001B[38;5;241m.\u001B[39margmax(F_1(x))\u001B[38;5;241m*\u001B[39m(np\u001B[38;5;241m.\u001B[39mlongdouble(\u001B[38;5;241m1\u001B[39m\u001B[38;5;241m*\u001B[39m\u001B[38;5;241m10\u001B[39m\u001B[38;5;241m*\u001B[39m\u001B[38;5;241m*\u001B[39m\u001B[38;5;241m16\u001B[39m)\u001B[38;5;241m-\u001B[39mnp\u001B[38;5;241m.\u001B[39mlongdouble(\u001B[38;5;241m1\u001B[39m\u001B[38;5;241m*\u001B[39m\u001B[38;5;241m10\u001B[39m\u001B[38;5;241m*\u001B[39m\u001B[38;5;241m*\u001B[39m\u001B[38;5;241m5\u001B[39m))\u001B[38;5;241m/\u001B[39mnp\u001B[38;5;241m.\u001B[39mlongdouble(\u001B[38;5;241m100001\u001B[39m)\n",
      "\u001B[1;31mTypeError\u001B[0m: 'numpy.ndarray' object is not callable"
     ]
    }
   ],
   "source": [
    "x = np.linspace(1*10**5,1*10**16,100001)\n",
    "max_1 = np.max(F_1(x))\n",
    "max_2 = np.max(F_2(x))\n",
    "max_in_1 = np.argmax(F_1(x))*(np.longdouble(1*10**16)-np.longdouble(1*10**5))/np.longdouble(100001)\n",
    "max_in_2 = np.argmax(F_2(x))*(np.longdouble(1*10**16)-np.longdouble(1*10**5))/np.longdouble(100001)\n",
    "\n",
    "print(\"maximum of 310.15K: \",np.max(F_1(x)),\" at frequency\", max_in_1,\"Hz\")\n",
    "print(\"maximum of 5778K: \",np.max(F_2(x)),\" at frequency\", max_in_2,\"Hz\")"
   ],
   "metadata": {
    "collapsed": false,
    "pycharm": {
     "name": "#%%\n"
    }
   }
  },
  {
   "cell_type": "code",
   "execution_count": 106,
   "outputs": [
    {
     "data": {
      "text/plain": "<Figure size 432x288 with 1 Axes>",
      "image/png": "[encoded data removed]"
     },
     "metadata": {
      "needs_background": "light"
     },
     "output_type": "display_data"
    }
   ],
   "source": [
    "nu = np.linspace(1*10**5,1*10**16,100000)\n",
    "F_1 = F_nu(310.15, nu)\n",
    "F_2 = F_nu(5778, nu)\n",
    "plt.title(\"Blackbody Frequency Spectrum\")\n",
    "plt.plot(nu, F_1, color =\"r\", label=\"T = 310.15K\")\n",
    "plt.plot(nu, F_2, color =\"g\", label=\"T = 5778K\")\n",
    "plt.plot(max_in_1, max_1, '.', color =\"k\", markersize  = 15)\n",
    "plt.plot(max_in_2, max_2, '.', color =\"k\", markersize  = 15)\n",
    "plt.legend(loc='upper center')\n",
    "plt.yscale('log')\n",
    "plt.xscale('log')\n",
    "plt.ylim(10e-30,1)\n",
    "plt.ylabel('$F_\\\\nu / Wm^{-2}Hz^{-1}$')\n",
    "plt.xlabel('$\\\\nu / Hz$')\n",
    "plt.show()"
   ],
   "metadata": {
    "collapsed": false,
    "pycharm": {
     "name": "#%%\n"
    }
   }
  },
  {
   "cell_type": "markdown",
   "source": [
    "The maximum is shown on the plot."
   ],
   "metadata": {
    "collapsed": false,
    "pycharm": {
     "name": "#%% md\n"
    }
   }
  },
  {
   "cell_type": "code",
   "execution_count": 107,
   "outputs": [
    {
     "data": {
      "text/plain": "0.0"
     },
     "execution_count": 107,
     "metadata": {},
     "output_type": "execute_result"
    }
   ],
   "source": [
    "x_1 = h*max_1/(k_B*310.15)\n",
    "(3-x_1)*np.e**x_1-3"
   ],
   "metadata": {
    "collapsed": false,
    "pycharm": {
     "name": "#%%\n"
    }
   }
  },
  {
   "cell_type": "code",
   "execution_count": 108,
   "outputs": [
    {
     "data": {
      "text/plain": "0.0"
     },
     "execution_count": 108,
     "metadata": {},
     "output_type": "execute_result"
    }
   ],
   "source": [
    "x_2 = h*max_1/(k_B*5778)\n",
    "(3-x_2)*np.e**x_2-3"
   ],
   "metadata": {
    "collapsed": false,
    "pycharm": {
     "name": "#%%\n"
    }
   }
  },
  {
   "cell_type": "markdown",
   "source": [
    "The two maxima satisfy the given relationship"
   ],
   "metadata": {
    "collapsed": false,
    "pycharm": {
     "name": "#%% md\n"
    }
   }
  },
  {
   "cell_type": "code",
   "execution_count": 112,
   "outputs": [
    {
     "data": {
      "text/plain": "0.0"
     },
     "execution_count": 112,
     "metadata": {},
     "output_type": "execute_result"
    }
   ],
   "source": [
    "deriv_center(lambda nu: 2*np.pi*h*np.power(nu,3)/np.power(c,2)*(1/(np.exp(h*nu/(k_B*310.15))-1)), max_in_1, 1e-9)"
   ],
   "metadata": {
    "collapsed": false,
    "pycharm": {
     "name": "#%%\n"
    }
   }
  },
  {
   "cell_type": "code",
   "execution_count": null,
   "outputs": [],
   "source": [
    "deriv_center(lambda nu: 2*np.pi*h*np.power(nu,3)/np.power(c,2)*(1/(np.exp(h*nu/(k_B*310.15))-1)), max_in_1, 1e-9)"
   ],
   "metadata": {
    "collapsed": false,
    "pycharm": {
     "name": "#%%\n"
    }
   }
  }
 ],
 "metadata": {
  "kernelspec": {
   "display_name": "Python 3",
   "language": "python",
   "name": "python3"
  },
  "language_info": {
   "codemirror_mode": {
    "name": "ipython",
    "version": 2
   },
   "file_extension": ".py",
   "mimetype": "text/x-python",
   "name": "python",
   "nbconvert_exporter": "python",
   "pygments_lexer": "ipython2",
   "version": "2.7.6"
  }
 },
 "nbformat": 4,
 "nbformat_minor": 0
}