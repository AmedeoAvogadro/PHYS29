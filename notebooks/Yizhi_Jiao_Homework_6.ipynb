{
 "cells": [
  {
   "cell_type": "markdown",
   "source": [
    "PHYS 29\n",
    "Yizhi Jiao\n",
    "Homework 6"
   ],
   "metadata": {
    "collapsed": false,
    "pycharm": {
     "name": "#%% md\n"
    }
   }
  },
  {
   "cell_type": "markdown",
   "source": [
    "Problem 1a"
   ],
   "metadata": {
    "collapsed": false,
    "pycharm": {
     "name": "#%% md\n"
    }
   }
  },
  {
   "cell_type": "code",
   "execution_count": 114,
   "outputs": [],
   "source": [
    "import matplotlib.pyplot as plt\n",
    "import numpy as np\n",
    "from scipy import optimize as opt\n",
    "import warnings\n",
    "warnings.filterwarnings('ignore')"
   ],
   "metadata": {
    "collapsed": false,
    "pycharm": {
     "name": "#%%\n"
    }
   }
  },
  {
   "cell_type": "code",
   "execution_count": 115,
   "outputs": [
    {
     "data": {
      "text/plain": "<Figure size 432x288 with 1 Axes>",
      "image/png": "[encoded data removed]"
     },
     "metadata": {
      "needs_background": "light"
     },
     "output_type": "display_data"
    }
   ],
   "source": [
    "v = np.linspace(0,15**0.5,100000)\n",
    "def f_1(x): return (15-x**2)**0.5\n",
    "def f_2a(x): return x*np.tan(x)\n",
    "def f_2b(x): return -x/np.tan(x)\n",
    "def delta_a(x): return (15-x**2)**0.5-x*np.tan(x)\n",
    "def delta_b(x): return (15-x**2)**0.5-(-x/np.tan(x))\n",
    "plt.title(\"Dot Plot of $f_1$, $f_{2a}$, and $f_{2b}$\")\n",
    "plt.plot(v, f_1(v), '.', color =\"r\", label=\"$f_1(v)$\")\n",
    "plt.plot(v, f_2a(v), '.', color =\"g\", label=\"$f_{2a}(v)$\")\n",
    "plt.plot(v, f_2b(v), '.', color =\"b\", label=\"$f_{2b}(v)$\")\n",
    "plt.xlim(0,np.sqrt(15))\n",
    "plt.ylim(0,15**0.5)\n",
    "plt.legend(loc='upper center')\n",
    "plt.ylabel('f')\n",
    "plt.xlabel('v')\n",
    "plt.show()"
   ],
   "metadata": {
    "collapsed": false,
    "pycharm": {
     "name": "#%%\n"
    }
   }
  },
  {
   "cell_type": "markdown",
   "source": [
    "As the dot plot shows, there are three intersects."
   ],
   "metadata": {
    "collapsed": false,
    "pycharm": {
     "name": "#%% md\n"
    }
   }
  },
  {
   "cell_type": "markdown",
   "source": [
    "Problem 1b"
   ],
   "metadata": {
    "collapsed": false,
    "pycharm": {
     "name": "#%% md\n"
    }
   }
  },
  {
   "cell_type": "code",
   "execution_count": 116,
   "outputs": [
    {
     "name": "stdout",
     "output_type": "stream",
     "text": [
      "Bisect\n",
      "intersect 1: v =  1.243843303227678 and E =  3.094292325968683\n",
      "intersect 2: v =  2.455026478354211 and E =  12.054310018840559\n",
      "intersect 3: v =  3.5517502816916076 and E =  25.229860126992826\n"
     ]
    }
   ],
   "source": [
    "print(\"Bisect\")\n",
    "print(\"intersect 1: v = \",opt.bisect(delta_a,1e-19,np.pi/2-1e-19), \"and E = \", 2*opt.bisect(delta_a,1e-19,np.pi/2-1e-19)**2)\n",
    "print(\"intersect 2: v = \",opt.bisect(delta_b,np.pi/2+1e-19,np.pi), \"and E = \", 2*opt.bisect(delta_b,np.pi/2+1e-19,np.pi)**2)\n",
    "print(\"intersect 3: v = \",opt.bisect(delta_a,np.pi,15**0.5), \"and E = \", 2*opt.bisect(delta_a,np.pi,15**0.5)**2)"
   ],
   "metadata": {
    "collapsed": false,
    "pycharm": {
     "name": "#%%\n"
    }
   }
  },
  {
   "cell_type": "code",
   "execution_count": 117,
   "outputs": [
    {
     "data": {
      "text/plain": "<Figure size 432x288 with 1 Axes>",
      "image/png": "[encoded data removed]"
     },
     "metadata": {
      "needs_background": "light"
     },
     "output_type": "display_data"
    }
   ],
   "source": [
    "plt.title(\"Dot Plot of $f_1$, $f_{2a}$, and $f_{2b}$\")\n",
    "plt.plot(v, f_1(v), '.', color =\"r\", label=\"$f_1(v)$\")\n",
    "plt.plot(v, f_2a(v), '.', color =\"g\", label=\"$f_{2a}(v)$\")\n",
    "plt.plot(v, f_2b(v), '.', color =\"b\", label=\"$f_{2b}(v)$\")\n",
    "plt.plot(opt.bisect(delta_a,1e-19,np.pi/2-1e-19),f_1(opt.bisect(delta_a,1e-19,np.pi/2-1e-19)), '.', color =\"w\", markersize  = 15)\n",
    "plt.plot(opt.bisect(delta_b,np.pi/2+1e-19,np.pi),f_1(opt.bisect(delta_b,np.pi/2+1e-19,np.pi)), '.', color =\"w\", markersize  = 15)\n",
    "plt.plot(opt.bisect(delta_a,np.pi,15**0.5),f_1(opt.bisect(delta_a,np.pi,15**0.5)), '.', color =\"w\", markersize  = 15)\n",
    "plt.xlim(0,np.sqrt(15))\n",
    "plt.ylim(0,15**0.5)\n",
    "plt.legend(loc='upper center')\n",
    "plt.ylabel('f')\n",
    "plt.xlabel('v')\n",
    "plt.show()\n"
   ],
   "metadata": {
    "collapsed": false,
    "pycharm": {
     "name": "#%%\n"
    }
   }
  }
 ],
 "metadata": {
  "kernelspec": {
   "display_name": "Python 3",
   "language": "python",
   "name": "python3"
  },
  "language_info": {
   "codemirror_mode": {
    "name": "ipython",
    "version": 2
   },
   "file_extension": ".py",
   "mimetype": "text/x-python",
   "name": "python",
   "nbconvert_exporter": "python",
   "pygments_lexer": "ipython2",
   "version": "2.7.6"
  }
 },
 "nbformat": 4,
 "nbformat_minor": 0
}