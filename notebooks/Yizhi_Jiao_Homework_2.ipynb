{
 "cells": [
  {
   "cell_type": "markdown",
   "source": [
    "Yizhi Jiao\n",
    "Homework 2"
   ],
   "metadata": {
    "collapsed": false,
    "pycharm": {
     "name": "#%% md\n"
    }
   }
  },
  {
   "cell_type": "code",
   "execution_count": 71,
   "metadata": {
    "collapsed": true,
    "pycharm": {
     "name": "#%%\n"
    }
   },
   "outputs": [],
   "source": [
    "import numpy as np"
   ]
  },
  {
   "cell_type": "markdown",
   "source": [
    "Problem 1(a)"
   ],
   "metadata": {
    "collapsed": false,
    "pycharm": {
     "name": "#%% md\n"
    }
   }
  },
  {
   "cell_type": "code",
   "execution_count": 72,
   "outputs": [],
   "source": [
    "k_b=1.38064852*10**-23"
   ],
   "metadata": {
    "collapsed": false,
    "pycharm": {
     "name": "#%%\n"
    }
   }
  },
  {
   "cell_type": "code",
   "execution_count": 73,
   "outputs": [],
   "source": [
    "def p(v,T,m):\n",
    "    return 4*np.pi*v**2*(m/(2*np.pi*k_b*T))**(3/2)*np.exp(-m*v**2/(2*k_b*T))"
   ],
   "metadata": {
    "collapsed": false,
    "pycharm": {
     "name": "#%%\n"
    }
   }
  },
  {
   "cell_type": "markdown",
   "source": [
    "Problem 1(b)"
   ],
   "metadata": {
    "collapsed": false,
    "pycharm": {
     "name": "#%% md\n"
    }
   }
  },
  {
   "cell_type": "code",
   "execution_count": 74,
   "outputs": [],
   "source": [
    "m=28.96*1.66054*10**(-27)\n",
    "T=300"
   ],
   "metadata": {
    "collapsed": false,
    "pycharm": {
     "name": "#%%\n"
    }
   }
  },
  {
   "cell_type": "code",
   "execution_count": 75,
   "outputs": [],
   "source": [
    "v_p=np.sqrt(2*k_b*T/m)"
   ],
   "metadata": {
    "collapsed": false,
    "pycharm": {
     "name": "#%%\n"
    }
   }
  },
  {
   "cell_type": "code",
   "execution_count": 76,
   "outputs": [
    {
     "name": "stdout",
     "output_type": "stream",
     "text": [
      "0.0019999087520919333\n",
      "0.0020003101174650563\n",
      "0.0019999114187987184\n"
     ]
    }
   ],
   "source": [
    "print(p(0.99*v_p,T,m))\n",
    "print(p(v_p,T,m))\n",
    "print(p(1.01*v_p,T,m))"
   ],
   "metadata": {
    "collapsed": false,
    "pycharm": {
     "name": "#%%\n"
    }
   }
  },
  {
   "cell_type": "markdown",
   "source": [
    "The probability at $v_p$ is the largest (local maximum)."
   ],
   "metadata": {
    "collapsed": false,
    "pycharm": {
     "name": "#%% md\n"
    }
   }
  },
  {
   "cell_type": "markdown",
   "source": [
    "Problem 1(c)"
   ],
   "metadata": {
    "collapsed": false,
    "pycharm": {
     "name": "#%% md\n"
    }
   }
  },
  {
   "cell_type": "code",
   "execution_count": 77,
   "outputs": [
    {
     "name": "stdout",
     "output_type": "stream",
     "text": [
      "More molecules per unit speed moving at 3v_p/2, exceeds v_p/2 by 0.218018%\n"
     ]
    }
   ],
   "source": [
    "if p(v_p/2,T,m)/p(3*v_p/2,T,m)>1:\n",
    "    print(\"More molecules per unit speed moving at v_p/2, exceeds 3v_p/2 by {:5f}%\".format(p(v_p/2,T,m)/p(3*v_p/2,T,m)-1))\n",
    "elif p(v_p/2,T,m)/p(3*v_p/2,T,m)<1:\n",
    "    print(\"More molecules per unit speed moving at 3v_p/2, exceeds v_p/2 by {:5f}%\".format(p(3*v_p/2,T,m)/p(v_p/2,T,m)-1))\n",
    "else:\n",
    "    print(\"The molecules per unit speed moving at these two speed are same\")"
   ],
   "metadata": {
    "collapsed": false,
    "pycharm": {
     "name": "#%%\n"
    }
   }
  },
  {
   "cell_type": "markdown",
   "source": [
    "Problem 2"
   ],
   "metadata": {
    "collapsed": false,
    "pycharm": {
     "name": "#%% md\n"
    }
   }
  },
  {
   "cell_type": "code",
   "execution_count": 78,
   "outputs": [],
   "source": [
    "#imported from section problems\n",
    "def linear_solver(a,b):return -b/a\n",
    "def quadratic_solver(a,b,c):\n",
    "    if a==0:\n",
    "        return linear_solver(b,c)\n",
    "    else:\n",
    "        if c!=0:\n",
    "            x_1=(-b + (b ** 2 - 4 * a * c)**0.5 ) / (2 * a)\n",
    "            x_2=c/(a*x_1)\n",
    "        else:\n",
    "            x_1=(-b + (b ** 2 - 4 * a * c)**0.5 ) / (2 * a)\n",
    "            x_2=(-b - (b ** 2 - 4 * a * c)**0.5 ) / (2 * a)\n",
    "        return x_1,x_2 #(-b - sympy.Pow(b ** 2 - 4 * a * c,0.5)) / (2 * a)"
   ],
   "metadata": {
    "collapsed": false,
    "pycharm": {
     "name": "#%%\n"
    }
   }
  },
  {
   "cell_type": "code",
   "execution_count": 79,
   "outputs": [],
   "source": [
    "def range(y_0,v_0,alpha):\n",
    "    if y_0 < 0 or v_0 < 0 or alpha > np.pi/2 or alpha < -np.pi/2 or (y_0 == 0 and v_0 == 0):\n",
    "        return \"illegal parameter(s)\"\n",
    "    else:\n",
    "        g=-9.8\n",
    "        t =[i for i in quadratic_solver(0.5*g,v_0*np.sin(alpha),y_0) if i > 0][0]\n",
    "        return v_0*np.cos(alpha)*t\n"
   ],
   "metadata": {
    "collapsed": false,
    "pycharm": {
     "name": "#%%\n"
    }
   }
  },
  {
   "cell_type": "code",
   "execution_count": 80,
   "outputs": [
    {
     "name": "stdout",
     "output_type": "stream",
     "text": [
      "30 degree gives the largest range 25.914503179798537 m\n"
     ]
    }
   ],
   "source": [
    "y_0 = 11\n",
    "v_0 = 13\n",
    "angles = [20/180*np.pi,30/180*np.pi,40/180*np.pi,50/180*np.pi,60/180*np.pi]\n",
    "#angles= [float(i) for i in list(input(\"please input angles seperated by commas: \").split(\",\"))]\n",
    "ranges = [range(11,13,i) for i in angles]\n",
    "print(\"{:.0f} degree gives the largest range {} m\".format(angles[ranges.index(max(ranges))]*180/np.pi,max(ranges)))"
   ],
   "metadata": {
    "collapsed": false,
    "pycharm": {
     "name": "#%%\n"
    }
   }
  },
  {
   "cell_type": "markdown",
   "source": [
    "Problem 3"
   ],
   "metadata": {
    "collapsed": false,
    "pycharm": {
     "name": "#%% md\n"
    }
   }
  },
  {
   "cell_type": "code",
   "execution_count": 81,
   "outputs": [],
   "source": [
    "def sort_three(a,b,c):\n",
    "    if a > b:\n",
    "        if a > c:\n",
    "            if b > c:\n",
    "                return c, b, a\n",
    "            else:\n",
    "                return b, c, a\n",
    "        else:\n",
    "            return b, a, c\n",
    "    else:\n",
    "        if a < c:\n",
    "            if b < c:\n",
    "                return a, b, c\n",
    "            else:\n",
    "                return a, c, b\n",
    "        else:\n",
    "            return c, a, b"
   ],
   "metadata": {
    "collapsed": false,
    "pycharm": {
     "name": "#%%\n"
    }
   }
  },
  {
   "cell_type": "code",
   "execution_count": 82,
   "outputs": [
    {
     "name": "stdout",
     "output_type": "stream",
     "text": [
      "(1, 2, 3)\n",
      "(1, 2, 3)\n",
      "(1, 2, 3)\n",
      "(1, 2, 3)\n",
      "(1, 2, 3)\n",
      "(1, 2, 3)\n"
     ]
    }
   ],
   "source": [
    "print(sort_three(1,2,3))\n",
    "print(sort_three(1,3,2))\n",
    "print(sort_three(2,1,3))\n",
    "print(sort_three(2,3,1))\n",
    "print(sort_three(3,2,1))\n",
    "print(sort_three(3,1,2))"
   ],
   "metadata": {
    "collapsed": false,
    "pycharm": {
     "name": "#%%\n"
    }
   }
  }
 ],
 "metadata": {
  "kernelspec": {
   "display_name": "Python 3",
   "language": "python",
   "name": "python3"
  },
  "language_info": {
   "codemirror_mode": {
    "name": "ipython",
    "version": 2
   },
   "file_extension": ".py",
   "mimetype": "text/x-python",
   "name": "python",
   "nbconvert_exporter": "python",
   "pygments_lexer": "ipython2",
   "version": "2.7.6"
  }
 },
 "nbformat": 4,
 "nbformat_minor": 0
}