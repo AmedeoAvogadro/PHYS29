{
 "cells": [
  {
   "cell_type": "markdown",
   "source": [
    "<span style='font-family:\"Times New Roman\"'> <span styel=''>\n",
    "Yizhi Jiao<br>\n",
    "PHYS 29<br>\n",
    "Homework 1<br>"
   ],
   "metadata": {
    "collapsed": false
   }
  },
  {
   "cell_type": "markdown",
   "source": [
    "Problem 1"
   ],
   "metadata": {
    "collapsed": false,
    "pycharm": {
     "name": "#%% md\n"
    }
   }
  },
  {
   "cell_type": "code",
   "execution_count": 1,
   "outputs": [],
   "source": [
    "g=9.8 # acceleration due to gravity\n",
    "R=6.4e6 # radius of the earth\n",
    "G=6.674e-11 # Newton's constant"
   ],
   "metadata": {
    "collapsed": false,
    "pycharm": {
     "name": "#%%\n"
    }
   }
  },
  {
   "cell_type": "markdown",
   "source": [
    "The gravitational force a person feel at the earth surface $$F=mg=\\frac{GM_em}{R^2}$$\n",
    "$$M_e=\\frac{gR^2}{G}$$"
   ],
   "metadata": {
    "collapsed": false
   }
  },
  {
   "cell_type": "code",
   "execution_count": 3,
   "outputs": [
    {
     "name": "stdout",
     "output_type": "stream",
     "text": [
      "6.014504045549896e+24\n"
     ]
    }
   ],
   "source": [
    "M_e=g*R**2/G\n",
    "print(M_e)"
   ],
   "metadata": {
    "collapsed": false,
    "pycharm": {
     "name": "#%%\n"
    }
   }
  },
  {
   "cell_type": "markdown",
   "source": [
    "Problem 2(a)"
   ],
   "metadata": {
    "collapsed": false,
    "pycharm": {
     "name": "#%% md\n"
    }
   }
  },
  {
   "cell_type": "code",
   "source": [
    "m=1 # 1kg mass\n",
    "d=3.84e8 #distance from earth center to moon center in meter\n",
    "M_m=7.35e22 #mass of the moon\n",
    "F_facing=G*M_m*m/(d-R)**2\n",
    "F_opposite=G*M_m*m/(d+R)**2\n",
    "print(\"force facing the moon:\", F_facing,\"N\\nforce in opposite direction:\",F_opposite,\"N\")\n"
   ],
   "metadata": {
    "collapsed": false,
    "pycharm": {
     "name": "#%%\n"
    }
   },
   "execution_count": 11,
   "outputs": [
    {
     "name": "stdout",
     "output_type": "stream",
     "text": [
      "force facing the moon: 3.440404999910227e-05 N\n",
      "force in opposite direction: 3.2185030380778017e-05 N\n"
     ]
    }
   ]
  },
  {
   "cell_type": "markdown",
   "source": [
    "Problem 2(b)"
   ],
   "metadata": {
    "collapsed": false
   }
  },
  {
   "cell_type": "markdown",
   "source": [
    "$$\\frac{dF}{dr}=-2\\frac{GM_mm}{r^3}$$"
   ],
   "metadata": {
    "collapsed": false
   }
  },
  {
   "cell_type": "code",
   "execution_count": 13,
   "outputs": [
    {
     "name": "stdout",
     "output_type": "stream",
     "text": [
      "tidal force facing the moon: 3.4375698513454864e-05 N\n",
      "tidal force in opposite direction: 3.21579115125868e-05 N\n"
     ]
    }
   ],
   "source": [
    "dFdr=-2*G*M_m*m/d**3\n",
    "F_center=G*M_m*m/d**2\n",
    "F_tidal_facing=F_center+dFdr*(-R)\n",
    "F_tidal_opposite=F_center+dFdr*R\n",
    "print(\"tidal force facing the moon:\", F_tidal_facing,\"N\\ntidal force in opposite direction:\",F_tidal_opposite,\"N\")"
   ],
   "metadata": {
    "collapsed": false,
    "pycharm": {
     "name": "#%%\n"
    }
   }
  },
  {
   "cell_type": "code",
   "execution_count": 16,
   "outputs": [
    {
     "name": "stdout",
     "output_type": "stream",
     "text": [
      "percent error facing the moon: -0.08240740740739695 %\n",
      "percent error in opposite direction: -0.08425925925927039 %\n"
     ]
    }
   ],
   "source": [
    "percent_error_facing=(F_tidal_facing-F_facing)/F_facing\n",
    "percent_error_opposite=(F_tidal_opposite-F_opposite)/F_opposite\n",
    "print(\"percent error facing the moon:\", percent_error_facing*100,\"%\\npercent error in opposite direction:\",percent_error_opposite*100,\"%\")"
   ],
   "metadata": {
    "collapsed": false,
    "pycharm": {
     "name": "#%%\n"
    }
   }
  },
  {
   "cell_type": "code",
   "execution_count": null,
   "outputs": [],
   "source": [],
   "metadata": {
    "collapsed": false,
    "pycharm": {
     "name": "#%%\n"
    }
   }
  }
 ],
 "metadata": {
  "kernelspec": {
   "display_name": "Python 3",
   "language": "python",
   "name": "python3"
  },
  "language_info": {
   "codemirror_mode": {
    "name": "ipython",
    "version": 2
   },
   "file_extension": ".py",
   "mimetype": "text/x-python",
   "name": "python",
   "nbconvert_exporter": "python",
   "pygments_lexer": "ipython2",
   "version": "2.7.6"
  }
 },
 "nbformat": 4,
 "nbformat_minor": 0
}