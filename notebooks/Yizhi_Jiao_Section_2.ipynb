{
 "cells": [
  {
   "cell_type": "code",
   "execution_count": 1,
   "metadata": {
    "collapsed": true,
    "pycharm": {
     "name": "#%%\n"
    }
   },
   "outputs": [],
   "source": [
    "import numba\n",
    "import sympy"
   ]
  },
  {
   "cell_type": "code",
   "execution_count": 1,
   "outputs": [],
   "source": [
    "def linear_solver(a,b):return -b/a\n",
    "def quadratic_solver(a,b,c):\n",
    "    if a==0:\n",
    "        return linear_solver(b,c)\n",
    "    else:\n",
    "        if c!=0:\n",
    "            x_1=(-b + (b ** 2 - 4 * a * c)**0.5 ) / (2 * a)\n",
    "            x_2=c/(a*x_1)\n",
    "        else:\n",
    "            x_1=(-b + (b ** 2 - 4 * a * c)**0.5 ) / (2 * a)\n",
    "            x_2=(-b - (b ** 2 - 4 * a * c)**0.5 ) / (2 * a)\n",
    "        return x_1,x_2 #(-b - sympy.Pow(b ** 2 - 4 * a * c,0.5)) / (2 * a)"
   ],
   "metadata": {
    "collapsed": false,
    "pycharm": {
     "name": "#%%\n"
    }
   }
  },
  {
   "cell_type": "code",
   "execution_count": 2,
   "outputs": [
    {
     "name": "stdout",
     "output_type": "stream",
     "text": [
      "(-9.96515154838562e-08, -10034970.317757009)\n"
     ]
    }
   ],
   "source": [
    "print(quadratic_solver(1,10000000,1))"
   ],
   "metadata": {
    "collapsed": false,
    "pycharm": {
     "name": "#%%\n"
    }
   }
  },
  {
   "cell_type": "code",
   "execution_count": 8,
   "outputs": [],
   "source": [
    "def big_pi(t):\n",
    "    if t==1 or t==-1:\n",
    "        return 0.5\n",
    "    elif -1<t<1:\n",
    "        return 1\n",
    "    elif t<-1 or t>1:\n",
    "        return 0"
   ],
   "metadata": {
    "collapsed": false,
    "pycharm": {
     "name": "#%%\n"
    }
   }
  },
  {
   "cell_type": "code",
   "execution_count": 9,
   "outputs": [
    {
     "data": {
      "text/plain": "1"
     },
     "execution_count": 9,
     "metadata": {},
     "output_type": "execute_result"
    }
   ],
   "source": [
    "big_pi(0)"
   ],
   "metadata": {
    "collapsed": false,
    "pycharm": {
     "name": "#%%\n"
    }
   }
  },
  {
   "cell_type": "code",
   "execution_count": null,
   "outputs": [],
   "source": [],
   "metadata": {
    "collapsed": false,
    "pycharm": {
     "name": "#%%\n"
    }
   }
  }
 ],
 "metadata": {
  "kernelspec": {
   "display_name": "Python 3",
   "language": "python",
   "name": "python3"
  },
  "language_info": {
   "codemirror_mode": {
    "name": "ipython",
    "version": 2
   },
   "file_extension": ".py",
   "mimetype": "text/x-python",
   "name": "python",
   "nbconvert_exporter": "python",
   "pygments_lexer": "ipython2",
   "version": "2.7.6"
  }
 },
 "nbformat": 4,
 "nbformat_minor": 0
}