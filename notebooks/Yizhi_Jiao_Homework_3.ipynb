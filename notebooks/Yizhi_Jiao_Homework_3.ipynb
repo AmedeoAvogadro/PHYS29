{
 "cells": [
  {
   "cell_type": "markdown",
   "source": [
    "Yizhi Jiao\n",
    "Homework 3\n",
    "PHYS 29"
   ],
   "metadata": {
    "collapsed": false,
    "pycharm": {
     "name": "#%% md\n"
    }
   }
  },
  {
   "cell_type": "markdown",
   "source": [
    "Problem 1"
   ],
   "metadata": {
    "collapsed": false,
    "pycharm": {
     "name": "#%% md\n"
    }
   }
  },
  {
   "cell_type": "code",
   "execution_count": 7,
   "outputs": [],
   "source": [
    "def fibo(n):\n",
    "    if n == 0:\n",
    "        return 0\n",
    "    elif n == 1:\n",
    "        return 1\n",
    "    else:\n",
    "        return fibo(n-1)+fibo(n-2)"
   ],
   "metadata": {
    "collapsed": false,
    "pycharm": {
     "name": "#%%\n"
    }
   }
  },
  {
   "cell_type": "code",
   "execution_count": 8,
   "outputs": [
    {
     "name": "stdout",
     "output_type": "stream",
     "text": [
      "832040\n"
     ]
    }
   ],
   "source": [
    "n = 0\n",
    "while fibo(n) < 10**6:\n",
    "    n += 1\n",
    "print(fibo(n-1))"
   ],
   "metadata": {
    "collapsed": false,
    "pycharm": {
     "name": "#%%\n"
    }
   }
  },
  {
   "cell_type": "markdown",
   "source": [
    "Problem 2a"
   ],
   "metadata": {
    "collapsed": false,
    "pycharm": {
     "name": "#%% md\n"
    }
   }
  },
  {
   "cell_type": "code",
   "execution_count": 9,
   "outputs": [],
   "source": [
    "import numpy as np\n",
    "def deriv_side(f, x, h):\n",
    "    return (f(x + h) - f(x)) / h\n",
    "\n",
    "\n",
    "def deriv_center(f, x, h):\n",
    "    return (f(x + h) - f(x - h)) / (2 * h)"
   ],
   "metadata": {
    "collapsed": false,
    "pycharm": {
     "name": "#%%\n"
    }
   }
  },
  {
   "cell_type": "code",
   "execution_count": 10,
   "outputs": [
    {
     "name": "stdout",
     "output_type": "stream",
     "text": [
      "2.7196414225332255\n",
      "2.718282281505724\n"
     ]
    }
   ],
   "source": [
    "h = 10**-3\n",
    "x=1\n",
    "print(deriv_side(lambda f:np.exp(f), x, h))\n",
    "print(deriv_center(lambda f:np.exp(f), x, h))"
   ],
   "metadata": {
    "collapsed": false,
    "pycharm": {
     "name": "#%%\n"
    }
   }
  },
  {
   "cell_type": "code",
   "execution_count": 11,
   "outputs": [
    {
     "data": {
      "text/plain": "-0.0013595940741804036"
     },
     "execution_count": 11,
     "metadata": {},
     "output_type": "execute_result"
    }
   ],
   "source": [
    "np.exp(1)-deriv_side(lambda f:np.exp(f), x, h)"
   ],
   "metadata": {
    "collapsed": false,
    "pycharm": {
     "name": "#%%\n"
    }
   }
  },
  {
   "cell_type": "code",
   "execution_count": 12,
   "outputs": [
    {
     "data": {
      "text/plain": "-4.53046678838831e-07"
     },
     "execution_count": 12,
     "metadata": {},
     "output_type": "execute_result"
    }
   ],
   "source": [
    "np.exp(1)-deriv_center(lambda f:np.exp(f), x, h)"
   ],
   "metadata": {
    "collapsed": false,
    "pycharm": {
     "name": "#%%\n"
    }
   }
  },
  {
   "cell_type": "code",
   "execution_count": 13,
   "outputs": [
    {
     "data": {
      "text/plain": "0.000500619754908227"
     },
     "execution_count": 13,
     "metadata": {},
     "output_type": "execute_result"
    }
   ],
   "source": [
    "abs(np.exp(1)-deriv_side(lambda f:np.exp(f), x, h)/np.exp(1)-deriv_center(lambda f:np.exp(f), x, h))-1"
   ],
   "metadata": {
    "collapsed": false,
    "pycharm": {
     "name": "#%%\n"
    }
   }
  },
  {
   "cell_type": "markdown",
   "source": [
    "The center method is $10^4$ more accurate than the side method"
   ],
   "metadata": {
    "collapsed": false,
    "pycharm": {
     "name": "#%% md\n"
    }
   }
  },
  {
   "cell_type": "markdown",
   "source": [
    "Problem 2b"
   ],
   "metadata": {
    "collapsed": false,
    "pycharm": {
     "name": "#%% md\n"
    }
   }
  },
  {
   "cell_type": "code",
   "execution_count": 14,
   "outputs": [
    {
     "name": "stdout",
     "output_type": "stream",
     "text": [
      "2.718417747082924\n",
      "2.718281832989611\n"
     ]
    }
   ],
   "source": [
    "h = 10**-4\n",
    "x=1\n",
    "print(deriv_side(lambda f:np.exp(f), x, h))\n",
    "print(deriv_center(lambda f:np.exp(f), x, h))"
   ],
   "metadata": {
    "collapsed": false,
    "pycharm": {
     "name": "#%%\n"
    }
   }
  },
  {
   "cell_type": "code",
   "execution_count": 15,
   "outputs": [
    {
     "data": {
      "text/plain": "-0.00013591862387896114"
     },
     "execution_count": 15,
     "metadata": {},
     "output_type": "execute_result"
    }
   ],
   "source": [
    "np.exp(1)-deriv_side(lambda f:np.exp(f), x, h)"
   ],
   "metadata": {
    "collapsed": false,
    "pycharm": {
     "name": "#%%\n"
    }
   }
  },
  {
   "cell_type": "code",
   "execution_count": 16,
   "outputs": [
    {
     "data": {
      "text/plain": "-4.53056570037802e-09"
     },
     "execution_count": 16,
     "metadata": {},
     "output_type": "execute_result"
    }
   ],
   "source": [
    "np.exp(1)-deriv_center(lambda f:np.exp(f), x, h)"
   ],
   "metadata": {
    "collapsed": false,
    "pycharm": {
     "name": "#%%\n"
    }
   }
  },
  {
   "cell_type": "code",
   "execution_count": 17,
   "outputs": [
    {
     "data": {
      "text/plain": "5.000619796313721e-05"
     },
     "execution_count": 17,
     "metadata": {},
     "output_type": "execute_result"
    }
   ],
   "source": [
    "abs(np.exp(1)-deriv_side(lambda f:np.exp(f), x, h)/np.exp(1)-deriv_center(lambda f:np.exp(f), x, h))-1"
   ],
   "metadata": {
    "collapsed": false,
    "pycharm": {
     "name": "#%%\n"
    }
   }
  },
  {
   "cell_type": "markdown",
   "source": [
    "The center method is $10^5$ more accurate than the side method. The accuracy is improved by lowering the interval $h$ used for estimating the derivative."
   ],
   "metadata": {
    "collapsed": false,
    "pycharm": {
     "name": "#%% md\n"
    }
   }
  },
  {
   "cell_type": "markdown",
   "source": [
    "Problem 2c"
   ],
   "metadata": {
    "collapsed": false,
    "pycharm": {
     "name": "#%% md\n"
    }
   }
  },
  {
   "cell_type": "code",
   "execution_count": 18,
   "outputs": [],
   "source": [
    "def deriv (f, x, h, n):\n",
    "    if n == 1:\n",
    "        return deriv_center(f, x, h)\n",
    "    else:\n",
    "        return (deriv(f, x+h, h, n-1)-deriv(f, x-h, h, n-1))/(2*h)"
   ],
   "metadata": {
    "collapsed": false,
    "pycharm": {
     "name": "#%%\n"
    }
   }
  },
  {
   "cell_type": "markdown",
   "source": [
    "Problem 2d"
   ],
   "metadata": {
    "collapsed": false,
    "pycharm": {
     "name": "#%% md\n"
    }
   }
  },
  {
   "cell_type": "code",
   "execution_count": 19,
   "outputs": [
    {
     "name": "stdout",
     "output_type": "stream",
     "text": [
      "First order derivative: 2.718282281505724\n",
      "Second order derivative: 2.7182827344596205\n",
      "Third order derivative: 2.7182832651462263\n"
     ]
    }
   ],
   "source": [
    "h = 10**-3\n",
    "x=1\n",
    "print(\"First order derivative:\", deriv(lambda f:np.exp(f), x, h, 1))\n",
    "print(\"Second order derivative:\", deriv(lambda f:np.exp(f), x, h, 2))\n",
    "print(\"Third order derivative:\", deriv(lambda f:np.exp(f), x, h, 3))"
   ],
   "metadata": {
    "collapsed": false,
    "pycharm": {
     "name": "#%%\n"
    }
   }
  },
  {
   "cell_type": "markdown",
   "source": [
    "Problem 3a and 3b"
   ],
   "metadata": {
    "collapsed": false,
    "pycharm": {
     "name": "#%% md\n"
    }
   }
  },
  {
   "cell_type": "code",
   "execution_count": 20,
   "outputs": [
    {
     "name": "stdout",
     "output_type": "stream",
     "text": [
      "n = 91, x_91 = 7.934690701631052e-29\n",
      "n = 92, x_92 = 3.967345350815526e-29\n",
      "n = 93, x_93 = 1.983672675407763e-29\n",
      "n = 94, x_94 = 9.918363377038816e-30\n",
      "n = 95, x_95 = 4.959181688519408e-30\n",
      "n = 96, x_96 = 2.479590844259704e-30\n",
      "n = 97, x_97 = 1.239795422129852e-30\n",
      "n = 98, x_98 = 6.19897711064926e-31\n",
      "n = 99, x_99 = 3.09948855532463e-31\n",
      "n = 100, x_100 = 1.549744277662315e-31\n"
     ]
    }
   ],
   "source": [
    "r = 0.5\n",
    "x = 0.5\n",
    "for n in range(1,101):\n",
    "    x = r*x*(1-x)\n",
    "    if n >90:\n",
    "        print(\"n = {}, x_{} = {}\".format(n,n,x))"
   ],
   "metadata": {
    "collapsed": false,
    "pycharm": {
     "name": "#%%\n"
    }
   }
  },
  {
   "cell_type": "code",
   "execution_count": 21,
   "outputs": [
    {
     "name": "stdout",
     "output_type": "stream",
     "text": [
      "n = 91, x_91 = 5.52827818475313e-29\n",
      "n = 92, x_92 = 2.764139092376565e-29\n",
      "n = 93, x_93 = 1.3820695461882825e-29\n",
      "n = 94, x_94 = 6.910347730941412e-30\n",
      "n = 95, x_95 = 3.455173865470706e-30\n",
      "n = 96, x_96 = 1.727586932735353e-30\n",
      "n = 97, x_97 = 8.637934663676765e-31\n",
      "n = 98, x_98 = 4.318967331838383e-31\n",
      "n = 99, x_99 = 2.1594836659191914e-31\n",
      "n = 100, x_100 = 1.0797418329595957e-31\n"
     ]
    }
   ],
   "source": [
    "r = 0.5\n",
    "x = 0.2\n",
    "for n in range(1,101):\n",
    "    x = r*x*(1-x)\n",
    "    if n >90:\n",
    "        print(\"n = {}, x_{} = {}\".format(n,n,x))"
   ],
   "metadata": {
    "collapsed": false,
    "pycharm": {
     "name": "#%%\n"
    }
   }
  },
  {
   "cell_type": "markdown",
   "source": [
    "Whatever the value of $x_0$ is, the $x_n$ eventually goes to 0"
   ],
   "metadata": {
    "collapsed": false,
    "pycharm": {
     "name": "#%% md\n"
    }
   }
  },
  {
   "cell_type": "markdown",
   "source": [
    "Problem 3c"
   ],
   "metadata": {
    "collapsed": false,
    "pycharm": {
     "name": "#%% md\n"
    }
   }
  },
  {
   "cell_type": "code",
   "execution_count": null,
   "outputs": [],
   "source": [
    "r = 1.5\n",
    "x = 0.5\n",
    "for n in range(1,101):\n",
    "    x = r*x*(1-x)\n",
    "    if n >90:\n",
    "        print(\"n = {}, x_{} = {}\".format(n,n,x))"
   ],
   "metadata": {
    "collapsed": false,
    "pycharm": {
     "name": "#%%\n"
    }
   }
  },
  {
   "cell_type": "code",
   "execution_count": null,
   "outputs": [],
   "source": [
    "r = 1.5\n",
    "x = 0.2\n",
    "for n in range(1,101):\n",
    "    x = r*x*(1-x)\n",
    "    if n >90:\n",
    "        print(\"n = {}, x_{} = {}\".format(n,n,x))"
   ],
   "metadata": {
    "collapsed": false,
    "pycharm": {
     "name": "#%%\n"
    }
   }
  },
  {
   "cell_type": "markdown",
   "source": [
    "For whatever the value of $x_0$ is, the $x_n$ have same patterns."
   ],
   "metadata": {
    "collapsed": false,
    "pycharm": {
     "name": "#%% md\n"
    }
   }
  },
  {
   "cell_type": "markdown",
   "source": [
    "Problem 3d"
   ],
   "metadata": {
    "collapsed": false,
    "pycharm": {
     "name": "#%% md\n"
    }
   }
  },
  {
   "cell_type": "code",
   "execution_count": null,
   "outputs": [],
   "source": [
    "r = 3.2\n",
    "x = 0.5\n",
    "for n in range(1,101):\n",
    "    x = r*x*(1-x)\n",
    "    if n >90:\n",
    "        print(\"n = {}, x_{} = {}\".format(n,n,x))"
   ],
   "metadata": {
    "collapsed": false,
    "pycharm": {
     "name": "#%%\n"
    }
   }
  },
  {
   "cell_type": "code",
   "execution_count": null,
   "outputs": [],
   "source": [
    "r = 3.2\n",
    "x = 0.2\n",
    "for n in range(1,101):\n",
    "    x = r*x*(1-x)\n",
    "    if n >90:\n",
    "        print(\"n = {}, x_{} = {}\".format(n,n,x))"
   ],
   "metadata": {
    "collapsed": false,
    "pycharm": {
     "name": "#%%\n"
    }
   }
  },
  {
   "cell_type": "markdown",
   "source": [
    "For whatever the value of $x_0$ is, the $x_n$ have same patterns."
   ],
   "metadata": {
    "collapsed": false,
    "pycharm": {
     "name": "#%% md\n"
    }
   }
  },
  {
   "cell_type": "markdown",
   "source": [
    "Problem 3e"
   ],
   "metadata": {
    "collapsed": false,
    "pycharm": {
     "name": "#%% md\n"
    }
   }
  },
  {
   "cell_type": "code",
   "execution_count": null,
   "outputs": [],
   "source": [
    "r = 3.52\n",
    "x = 0.5\n",
    "for n in range(1,101):\n",
    "    x = r*x*(1-x)\n",
    "    if n >90:\n",
    "        print(\"n = {}, x_{} = {}\".format(n,n,x))"
   ],
   "metadata": {
    "collapsed": false,
    "pycharm": {
     "name": "#%%\n"
    }
   }
  },
  {
   "cell_type": "code",
   "execution_count": null,
   "outputs": [],
   "source": [
    "r = 3.52\n",
    "x = 0.2\n",
    "for n in range(1,101):\n",
    "    x = r*x*(1-x)\n",
    "    if n >90:\n",
    "        print(\"n = {}, x_{} = {}\".format(n,n,x))"
   ],
   "metadata": {
    "collapsed": false,
    "pycharm": {
     "name": "#%%\n"
    }
   }
  },
  {
   "cell_type": "markdown",
   "source": [
    "For whatever the value of $x_0$ is, the $x_n$ have same patterns."
   ],
   "metadata": {
    "collapsed": false,
    "pycharm": {
     "name": "#%% md\n"
    }
   }
  },
  {
   "cell_type": "markdown",
   "source": [
    "Problem 3f"
   ],
   "metadata": {
    "collapsed": false,
    "pycharm": {
     "name": "#%% md\n"
    }
   }
  },
  {
   "cell_type": "code",
   "execution_count": null,
   "outputs": [],
   "source": [
    "r = 3.55\n",
    "x = 0.5\n",
    "for n in range(1,101):\n",
    "    x = r*x*(1-x)\n",
    "    if n >80:\n",
    "        print(\"n = {}, x_{} = {}\".format(n,n,x))"
   ],
   "metadata": {
    "collapsed": false,
    "pycharm": {
     "name": "#%%\n"
    }
   }
  },
  {
   "cell_type": "code",
   "execution_count": null,
   "outputs": [],
   "source": [
    "r = 3.55\n",
    "x = 0.2\n",
    "for n in range(1,101):\n",
    "    x = r*x*(1-x)\n",
    "    if n >80:\n",
    "        print(\"n = {}, x_{} = {}\".format(n,n,x))"
   ],
   "metadata": {
    "collapsed": false,
    "pycharm": {
     "name": "#%%\n"
    }
   }
  },
  {
   "cell_type": "markdown",
   "source": [
    "For whatever the value of $x_0$ is, the $x_n$ have same patterns."
   ],
   "metadata": {
    "collapsed": false,
    "pycharm": {
     "name": "#%% md\n"
    }
   }
  },
  {
   "cell_type": "markdown",
   "source": [
    "Problem 3g"
   ],
   "metadata": {
    "collapsed": false,
    "pycharm": {
     "name": "#%% md\n"
    }
   }
  },
  {
   "cell_type": "code",
   "execution_count": null,
   "outputs": [],
   "source": [
    "r = 3.6\n",
    "x = 0.5\n",
    "for n in range(1,101):\n",
    "    x = r*x*(1-x)\n",
    "    if n >80:\n",
    "        print(\"n = {}, x_{} = {}\".format(n,n,x))"
   ],
   "metadata": {
    "collapsed": false,
    "pycharm": {
     "name": "#%%\n"
    }
   }
  },
  {
   "cell_type": "code",
   "execution_count": null,
   "outputs": [],
   "source": [
    "r = 3.6\n",
    "x = 0.2\n",
    "for n in range(1,101):\n",
    "    x = r*x*(1-x)\n",
    "    if n >80:\n",
    "        print(\"n = {}, x_{} = {}\".format(n,n,x))"
   ],
   "metadata": {
    "collapsed": false,
    "pycharm": {
     "name": "#%%\n"
    }
   }
  },
  {
   "cell_type": "markdown",
   "source": [
    "No pattern can be observed."
   ],
   "metadata": {
    "collapsed": false,
    "pycharm": {
     "name": "#%% md\n"
    }
   }
  },
  {
   "cell_type": "markdown",
   "source": [
    "For whatever the value of $x_0$ is, the $x_n$ have same patterns."
   ],
   "metadata": {
    "collapsed": false,
    "pycharm": {
     "name": "#%% md\n"
    }
   }
  },
  {
   "cell_type": "markdown",
   "source": [
    "Problem 3g"
   ],
   "metadata": {
    "collapsed": false,
    "pycharm": {
     "name": "#%% md\n"
    }
   }
  },
  {
   "cell_type": "code",
   "execution_count": 30,
   "outputs": [
    {
     "name": "stdout",
     "output_type": "stream",
     "text": [
      "n = 81, x_81 = 0.8605549787094865\n",
      "n = 82, x_82 = 0.43200038638008625\n",
      "n = 83, x_83 = 0.8833537891711527\n",
      "n = 84, x_84 = 0.37094354038122984\n",
      "n = 85, x_85 = 0.8400399488304076\n",
      "n = 86, x_86 = 0.4837421995178897\n",
      "n = 87, x_87 = 0.8990484621245421\n",
      "n = 88, x_88 = 0.3267371695537363\n",
      "n = 89, x_89 = 0.7919279697086974\n",
      "n = 90, x_90 = 0.5932010178063284\n",
      "n = 91, x_91 = 0.868728853007512\n",
      "n = 92, x_92 = 0.41054051865515256\n",
      "n = 93, x_93 = 0.8711892043110393\n",
      "n = 94, x_94 = 0.4039868685705751\n",
      "n = 95, x_95 = 0.8668133229352175\n",
      "n = 96, x_96 = 0.4156127500220058\n",
      "n = 97, x_97 = 0.8743636513481454\n",
      "n = 98, x_98 = 0.39546668357742315\n",
      "n = 99, x_99 = 0.8606620287277107\n",
      "n = 100, x_100 = 0.43172244372244317\n"
     ]
    }
   ],
   "source": [
    "r = 3.6\n",
    "x = 0.5\n",
    "for n in range(1,101):\n",
    "    x = r*x*(1-x)\n",
    "    if n >80:\n",
    "        print(\"n = {}, x_{} = {}\".format(n,n,x))"
   ],
   "metadata": {
    "collapsed": false,
    "pycharm": {
     "name": "#%%\n"
    }
   }
  },
  {
   "cell_type": "code",
   "execution_count": 31,
   "outputs": [
    {
     "name": "stdout",
     "output_type": "stream",
     "text": [
      "n = 81, x_81 = 0.34571855457285705\n",
      "n = 82, x_82 = 0.8143100481488815\n",
      "n = 83, x_83 = 0.544353097077532\n",
      "n = 84, x_84 = 0.8929180900066718\n",
      "n = 85, x_85 = 0.34421534836383233\n",
      "n = 86, x_86 = 0.8126321123325524\n",
      "n = 87, x_87 = 0.5481401844185508\n",
      "n = 88, x_88 = 0.8916570815189325\n",
      "n = 89, x_89 = 0.34777702978586006\n",
      "n = 90, x_90 = 0.8165814024210662\n",
      "n = 91, x_91 = 0.5391943763079993\n",
      "n = 92, x_92 = 0.894469683116977\n",
      "n = 93, x_93 = 0.3398172087657301\n",
      "n = 94, x_94 = 0.8076293042126339\n",
      "n = 95, x_95 = 0.5593111602827427\n",
      "n = 96, x_96 = 0.8873358705572932\n",
      "n = 97, x_97 = 0.3598953241666456\n",
      "n = 98, x_98 = 0.8293344473146705\n",
      "n = 99, x_99 = 0.5095397585229858\n",
      "n = 100, x_100 = 0.8996723748263633\n"
     ]
    }
   ],
   "source": [
    "r = 3.6\n",
    "x = 0.2\n",
    "for n in range(1,101):\n",
    "    x = r*x*(1-x)\n",
    "    if n >80:\n",
    "        print(\"n = {}, x_{} = {}\".format(n,n,x))"
   ],
   "metadata": {
    "collapsed": false,
    "pycharm": {
     "name": "#%%\n"
    }
   }
  },
  {
   "cell_type": "markdown",
   "source": [
    "No pattern can be observed."
   ],
   "metadata": {
    "collapsed": false,
    "pycharm": {
     "name": "#%% md\n"
    }
   }
  },
  {
   "cell_type": "code",
   "execution_count": 31,
   "outputs": [],
   "source": [],
   "metadata": {
    "collapsed": false,
    "pycharm": {
     "name": "#%%\n"
    }
   }
  }
 ],
 "metadata": {
  "kernelspec": {
   "display_name": "Python 3",
   "language": "python",
   "name": "python3"
  },
  "language_info": {
   "codemirror_mode": {
    "name": "ipython",
    "version": 2
   },
   "file_extension": ".py",
   "mimetype": "text/x-python",
   "name": "python",
   "nbconvert_exporter": "python",
   "pygments_lexer": "ipython2",
   "version": "2.7.6"
  }
 },
 "nbformat": 4,
 "nbformat_minor": 0
}