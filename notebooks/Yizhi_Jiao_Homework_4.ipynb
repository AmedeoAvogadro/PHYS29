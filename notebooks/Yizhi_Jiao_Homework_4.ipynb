{
 "cells": [
  {
   "cell_type": "markdown",
   "source": [
    "Yizhi Jiao\n",
    "PHYS 29\n",
    "Homework 1"
   ],
   "metadata": {
    "collapsed": false,
    "pycharm": {
     "name": "#%% md\n"
    }
   }
  },
  {
   "cell_type": "markdown",
   "source": [
    "Problem 1"
   ],
   "metadata": {
    "collapsed": false,
    "pycharm": {
     "name": "#%% md\n"
    }
   }
  },
  {
   "cell_type": "code",
   "execution_count": 65,
   "outputs": [],
   "source": [
    "import numpy as np"
   ],
   "metadata": {
    "collapsed": false,
    "pycharm": {
     "name": "#%%\n"
    }
   }
  },
  {
   "cell_type": "code",
   "execution_count": 66,
   "outputs": [
    {
     "name": "stdout",
     "output_type": "stream",
     "text": [
      "[1.00000000e+00 2.50000000e-01 1.11111111e-01 6.25000000e-02\n",
      " 4.00000000e-02 2.77777778e-02 2.04081633e-02 1.56250000e-02\n",
      " 1.23456790e-02 1.00000000e-02 8.26446281e-03 6.94444444e-03\n",
      " 5.91715976e-03 5.10204082e-03 4.44444444e-03 3.90625000e-03\n",
      " 3.46020761e-03 3.08641975e-03 2.77008310e-03 2.50000000e-03\n",
      " 2.26757370e-03 2.06611570e-03 1.89035917e-03 1.73611111e-03\n",
      " 1.60000000e-03 1.47928994e-03 1.37174211e-03 1.27551020e-03\n",
      " 1.18906064e-03 1.11111111e-03 1.04058273e-03 9.76562500e-04\n",
      " 9.18273646e-04 8.65051903e-04 8.16326531e-04 7.71604938e-04\n",
      " 7.30460190e-04 6.92520776e-04 6.57462196e-04 6.25000000e-04\n",
      " 5.94883998e-04 5.66893424e-04 5.40832883e-04 5.16528926e-04\n",
      " 4.93827160e-04 4.72589792e-04 4.52693526e-04 4.34027778e-04\n",
      " 4.16493128e-04 4.00000000e-04 3.84467512e-04 3.69822485e-04\n",
      " 3.55998576e-04 3.42935528e-04 3.30578512e-04 3.18877551e-04\n",
      " 3.07787011e-04 2.97265161e-04 2.87273772e-04 2.77777778e-04\n",
      " 2.68744961e-04 2.60145682e-04 2.51952633e-04 2.44140625e-04\n",
      " 2.36686391e-04 2.29568411e-04 2.22766763e-04 2.16262976e-04\n",
      " 2.10039908e-04 2.04081633e-04 1.98373339e-04 1.92901235e-04\n",
      " 1.87652468e-04 1.82615047e-04 1.77777778e-04 1.73130194e-04\n",
      " 1.68662506e-04 1.64365549e-04 1.60230732e-04 1.56250000e-04\n",
      " 1.52415790e-04 1.48720999e-04 1.45158949e-04 1.41723356e-04\n",
      " 1.38408304e-04 1.35208221e-04 1.32117849e-04 1.29132231e-04\n",
      " 1.26246686e-04 1.23456790e-04 1.20758363e-04 1.18147448e-04\n",
      " 1.15620303e-04 1.13173382e-04 1.10803324e-04 1.08506944e-04\n",
      " 1.06281220e-04 1.04123282e-04 1.02030405e-04 1.00000000e-04\n",
      " 9.80296049e-05 9.61168781e-05 9.42595909e-05 9.24556213e-05\n",
      " 9.07029478e-05 8.89996440e-05 8.73438728e-05 8.57338820e-05\n",
      " 8.41679993e-05 8.26446281e-05 8.11622433e-05 7.97193878e-05\n",
      " 7.83146683e-05 7.69467528e-05 7.56143667e-05 7.43162901e-05\n",
      " 7.30513551e-05 7.18184430e-05 7.06164819e-05 6.94444444e-05\n",
      " 6.83013455e-05 6.71862403e-05 6.60982220e-05 6.50364204e-05\n",
      " 6.40000000e-05 6.29881582e-05 6.20001240e-05 6.10351562e-05\n",
      " 6.00925425e-05 5.91715976e-05 5.82716625e-05 5.73921028e-05\n",
      " 5.65323082e-05 5.56916908e-05 5.48696845e-05 5.40657439e-05\n",
      " 5.32793436e-05 5.25099769e-05 5.17571554e-05 5.10204082e-05\n",
      " 5.02992807e-05 4.95933347e-05 4.89021468e-05 4.82253086e-05\n",
      " 4.75624257e-05 4.69131169e-05 4.62770142e-05 4.56537619e-05\n",
      " 4.50430161e-05 4.44444444e-05 4.38577255e-05 4.32825485e-05\n",
      " 4.27186125e-05 4.21656266e-05 4.16233091e-05 4.10913872e-05\n",
      " 4.05695971e-05 4.00576831e-05 3.95553973e-05 3.90625000e-05\n",
      " 3.85787585e-05 3.81039476e-05 3.76378486e-05 3.71802499e-05\n",
      " 3.67309458e-05 3.62897373e-05 3.58564309e-05 3.54308390e-05\n",
      " 3.50127797e-05 3.46020761e-05 3.41985568e-05 3.38020552e-05\n",
      " 3.34124094e-05 3.30294623e-05 3.26530612e-05 3.22830579e-05\n",
      " 3.19193080e-05 3.15616715e-05 3.12100122e-05 3.08641975e-05\n",
      " 3.05240988e-05 3.01895906e-05 2.98605512e-05 2.95368620e-05\n",
      " 2.92184076e-05 2.89050757e-05 2.85967571e-05 2.82933454e-05\n",
      " 2.79947370e-05 2.77008310e-05 2.74115293e-05 2.71267361e-05\n",
      " 2.68463583e-05 2.65703050e-05 2.62984878e-05 2.60308205e-05\n",
      " 2.57672189e-05 2.55076013e-05 2.52518876e-05 2.50000000e-05\n",
      " 2.47518626e-05 2.45074012e-05 2.42665437e-05 2.40292195e-05\n",
      " 2.37953599e-05 2.35648977e-05 2.33377675e-05 2.31139053e-05\n",
      " 2.28932488e-05 2.26757370e-05 2.24613104e-05 2.22499110e-05\n",
      " 2.20414821e-05 2.18359682e-05 2.16333153e-05 2.14334705e-05\n",
      " 2.12363822e-05 2.10419998e-05 2.08502742e-05 2.06611570e-05\n",
      " 2.04746013e-05 2.02905608e-05 2.01089907e-05 1.99298469e-05\n",
      " 1.97530864e-05 1.95786671e-05 1.94065478e-05 1.92366882e-05\n",
      " 1.90690490e-05 1.89035917e-05 1.87402785e-05 1.85790725e-05\n",
      " 1.84199377e-05 1.82628388e-05 1.81077411e-05 1.79546107e-05\n",
      " 1.78034147e-05 1.76541205e-05 1.75066963e-05 1.73611111e-05\n",
      " 1.72173344e-05 1.70753364e-05 1.69350878e-05 1.67965601e-05\n",
      " 1.66597251e-05 1.65245555e-05 1.63910243e-05 1.62591051e-05\n",
      " 1.61287721e-05 1.60000000e-05 1.58727639e-05 1.57470396e-05\n",
      " 1.56228030e-05 1.55000310e-05 1.53787005e-05 1.52587891e-05\n",
      " 1.51402746e-05 1.50231356e-05 1.49073508e-05 1.47928994e-05\n",
      " 1.46797610e-05 1.45679156e-05 1.44573436e-05 1.43480257e-05\n",
      " 1.42399430e-05 1.41330771e-05 1.40274096e-05 1.39229227e-05\n",
      " 1.38195990e-05 1.37174211e-05 1.36163723e-05 1.35164360e-05\n",
      " 1.34175958e-05 1.33198359e-05 1.32231405e-05 1.31274942e-05\n",
      " 1.30328820e-05 1.29392889e-05 1.28467003e-05 1.27551020e-05\n",
      " 1.26644799e-05 1.25748202e-05 1.24861092e-05 1.23983337e-05\n",
      " 1.23114805e-05 1.22255367e-05 1.21404897e-05 1.20563272e-05\n",
      " 1.19730367e-05 1.18906064e-05 1.18090245e-05 1.17282792e-05\n",
      " 1.16483593e-05 1.15692536e-05 1.14909509e-05 1.14134405e-05\n",
      " 1.13367117e-05 1.12607540e-05 1.11855572e-05 1.11111111e-05\n",
      " 1.10374058e-05 1.09644314e-05 1.08921783e-05 1.08206371e-05\n",
      " 1.07497984e-05 1.06796531e-05 1.06101922e-05 1.05414066e-05\n",
      " 1.04732879e-05 1.04058273e-05 1.03390163e-05 1.02728468e-05\n",
      " 1.02073105e-05 1.01423993e-05 1.00781053e-05 1.00144208e-05\n",
      " 9.95133796e-06 9.88884933e-06 9.82694746e-06 9.76562500e-06\n",
      " 9.70487476e-06 9.64468963e-06 9.58506264e-06 9.52598689e-06\n",
      " 9.46745562e-06 9.40946216e-06 9.35199993e-06 9.29506246e-06\n",
      " 9.23864340e-06 9.18273646e-06 9.12733546e-06 9.07243432e-06\n",
      " 9.01802704e-06 8.96410771e-06 8.91067053e-06 8.85770975e-06\n",
      " 8.80521973e-06 8.75319492e-06 8.70162982e-06 8.65051903e-06\n",
      " 8.59985724e-06 8.54963921e-06 8.49985975e-06 8.45051379e-06\n",
      " 8.40159630e-06 8.35310234e-06 8.30502703e-06 8.25736557e-06\n",
      " 8.21011322e-06 8.16326531e-06 8.11681723e-06 8.07076446e-06\n",
      " 8.02510252e-06 7.97982700e-06 7.93493354e-06 7.89041788e-06\n",
      " 7.84627577e-06 7.80250304e-06 7.75909560e-06 7.71604938e-06\n",
      " 7.67336039e-06 7.63102469e-06 7.58903839e-06 7.54739766e-06\n",
      " 7.50609871e-06 7.46513781e-06 7.42451128e-06 7.38421550e-06\n",
      " 7.34424688e-06 7.30460190e-06 7.26527706e-06 7.22626893e-06\n",
      " 7.18757412e-06 7.14918928e-06 7.11111111e-06 7.07333635e-06\n",
      " 7.03586179e-06 6.99868425e-06 6.96180060e-06 6.92520776e-06\n",
      " 6.88890267e-06 6.85288232e-06 6.81714375e-06 6.78168403e-06\n",
      " 6.74650025e-06 6.71158957e-06 6.67694917e-06 6.64257626e-06\n",
      " 6.60846809e-06 6.57462196e-06 6.54103518e-06 6.50770512e-06\n",
      " 6.47462917e-06 6.44180474e-06 6.40922929e-06 6.37690032e-06\n",
      " 6.34481533e-06 6.31297189e-06 6.28136758e-06 6.25000000e-06\n",
      " 6.21886680e-06 6.18796564e-06 6.15729424e-06 6.12685031e-06\n",
      " 6.09663161e-06 6.06663593e-06 6.03686107e-06 6.00730488e-06\n",
      " 5.97796522e-06 5.94883998e-06 5.91992707e-06 5.89122443e-06\n",
      " 5.86273004e-06 5.83444188e-06 5.80635796e-06 5.77847633e-06\n",
      " 5.75079505e-06 5.72331220e-06 5.69602588e-06 5.66893424e-06\n",
      " 5.64203542e-06 5.61532760e-06 5.58880897e-06 5.56247775e-06\n",
      " 5.53633218e-06 5.51037052e-06 5.48459104e-06 5.45899205e-06\n",
      " 5.43357187e-06 5.40832883e-06 5.38326129e-06 5.35836763e-06\n",
      " 5.33364624e-06 5.30909554e-06 5.28471396e-06 5.26049996e-06\n",
      " 5.23645199e-06 5.21256855e-06 5.18884813e-06 5.16528926e-06\n",
      " 5.14189047e-06 5.11865031e-06 5.09556737e-06 5.07264021e-06\n",
      " 5.04986744e-06 5.02724768e-06 5.00477956e-06 4.98246173e-06\n",
      " 4.96029286e-06 4.93827160e-06 4.91639667e-06 4.89466677e-06\n",
      " 4.87308062e-06 4.85163694e-06 4.83033450e-06 4.80917205e-06\n",
      " 4.78814838e-06 4.76726226e-06 4.74651250e-06 4.72589792e-06\n",
      " 4.70541735e-06 4.68506962e-06 4.66485359e-06 4.64476813e-06\n",
      " 4.62481212e-06 4.60498444e-06 4.58528399e-06 4.56570969e-06\n",
      " 4.54626047e-06 4.52693526e-06 4.50773302e-06 4.48865269e-06\n",
      " 4.46969324e-06 4.45085367e-06 4.43213296e-06 4.41353012e-06\n",
      " 4.39504415e-06 4.37667408e-06 4.35841894e-06 4.34027778e-06\n",
      " 4.32224964e-06 4.30433360e-06 4.28652873e-06 4.26883410e-06\n",
      " 4.25124880e-06 4.23377195e-06 4.21640265e-06 4.19914002e-06\n",
      " 4.18198318e-06 4.16493128e-06 4.14798346e-06 4.13113887e-06\n",
      " 4.11439669e-06 4.09775607e-06 4.08121620e-06 4.06477627e-06\n",
      " 4.04843548e-06 4.03219303e-06 4.01604813e-06 4.00000000e-06\n",
      " 3.98404787e-06 3.96819098e-06 3.95242857e-06 3.93675989e-06\n",
      " 3.92118420e-06 3.90570076e-06 3.89030885e-06 3.87500775e-06\n",
      " 3.85979674e-06 3.84467512e-06 3.82964220e-06 3.81469727e-06\n",
      " 3.79983965e-06 3.78506866e-06 3.77038364e-06 3.75578391e-06\n",
      " 3.74126881e-06 3.72683770e-06 3.71248993e-06 3.69822485e-06\n",
      " 3.68404184e-06 3.66994025e-06 3.65591948e-06 3.64197891e-06\n",
      " 3.62811791e-06 3.61433590e-06 3.60063227e-06 3.58700643e-06\n",
      " 3.57345778e-06 3.55998576e-06 3.54658978e-06 3.53326926e-06\n",
      " 3.52002365e-06 3.50685239e-06 3.49375491e-06 3.48073067e-06\n",
      " 3.46777913e-06 3.45489974e-06 3.44209197e-06 3.42935528e-06\n",
      " 3.41668916e-06 3.40409308e-06 3.39156653e-06 3.37910900e-06\n",
      " 3.36671997e-06 3.35439896e-06 3.34214546e-06 3.32995897e-06\n",
      " 3.31783903e-06 3.30578512e-06 3.29379679e-06 3.28187356e-06\n",
      " 3.27001494e-06 3.25822049e-06 3.24648973e-06 3.23482221e-06\n",
      " 3.22321748e-06 3.21167508e-06 3.20019457e-06 3.18877551e-06\n",
      " 3.17741746e-06 3.16611998e-06 3.15488265e-06 3.14370505e-06\n",
      " 3.13258673e-06 3.12152730e-06 3.11052633e-06 3.09958342e-06\n",
      " 3.08869814e-06 3.07787011e-06 3.06709892e-06 3.05638418e-06\n",
      " 3.04572548e-06 3.03512244e-06 3.02457467e-06 3.01408179e-06\n",
      " 3.00364342e-06 2.99325918e-06 2.98292870e-06 2.97265161e-06\n",
      " 2.96242753e-06 2.95225611e-06 2.94213699e-06 2.93206981e-06\n",
      " 2.92205420e-06 2.91208983e-06 2.90217634e-06 2.89231339e-06\n",
      " 2.88250063e-06 2.87273772e-06 2.86302433e-06 2.85336012e-06\n",
      " 2.84374476e-06 2.83417792e-06 2.82465928e-06 2.81518851e-06\n",
      " 2.80576529e-06 2.79638930e-06 2.78706024e-06 2.77777778e-06\n",
      " 2.76854162e-06 2.75935144e-06 2.75020695e-06 2.74110785e-06\n",
      " 2.73205382e-06 2.72304458e-06 2.71407983e-06 2.70515928e-06\n",
      " 2.69628264e-06 2.68744961e-06 2.67865992e-06 2.66991328e-06\n",
      " 2.66120941e-06 2.65254804e-06 2.64392888e-06 2.63535166e-06\n",
      " 2.62681611e-06 2.61832197e-06 2.60986896e-06 2.60145682e-06\n",
      " 2.59308528e-06 2.58475409e-06 2.57646298e-06 2.56821170e-06\n",
      " 2.56000000e-06 2.55182762e-06 2.54369431e-06 2.53559982e-06\n",
      " 2.52754391e-06 2.51952633e-06 2.51154684e-06 2.50360519e-06\n",
      " 2.49570115e-06 2.48783449e-06 2.48000496e-06 2.47221233e-06\n",
      " 2.46445638e-06 2.45673686e-06 2.44905356e-06 2.44140625e-06\n",
      " 2.43379470e-06 2.42621869e-06 2.41867800e-06 2.41117241e-06\n",
      " 2.40370170e-06 2.39626566e-06 2.38886407e-06 2.38149672e-06\n",
      " 2.37416340e-06 2.36686391e-06 2.35959802e-06 2.35236554e-06\n",
      " 2.34516626e-06 2.33799998e-06 2.33086650e-06 2.32376562e-06\n",
      " 2.31669713e-06 2.30966085e-06 2.30265657e-06 2.29568411e-06\n",
      " 2.28874327e-06 2.28183386e-06 2.27495570e-06 2.26810858e-06\n",
      " 2.26129233e-06 2.25450676e-06 2.24775169e-06 2.24102693e-06\n",
      " 2.23433230e-06 2.22766763e-06 2.22103274e-06 2.21442744e-06\n",
      " 2.20785156e-06 2.20130493e-06 2.19478738e-06 2.18829873e-06\n",
      " 2.18183881e-06 2.17540745e-06 2.16900449e-06 2.16262976e-06\n",
      " 2.15628309e-06 2.14996431e-06 2.14367327e-06 2.13740980e-06\n",
      " 2.13117374e-06 2.12496494e-06 2.11878323e-06 2.11262845e-06\n",
      " 2.10650045e-06 2.10039908e-06 2.09432417e-06 2.08827559e-06\n",
      " 2.08225316e-06 2.07625676e-06 2.07028622e-06 2.06434139e-06\n",
      " 2.05842214e-06 2.05252830e-06 2.04665975e-06 2.04081633e-06\n",
      " 2.03499789e-06 2.02920431e-06 2.02343543e-06 2.01769112e-06\n",
      " 2.01197123e-06 2.00627563e-06 2.00060418e-06 1.99495675e-06\n",
      " 1.98933320e-06 1.98373339e-06 1.97815719e-06 1.97260447e-06\n",
      " 1.96707510e-06 1.96156894e-06 1.95608587e-06 1.95062576e-06\n",
      " 1.94518848e-06 1.93977390e-06 1.93438190e-06 1.92901235e-06\n",
      " 1.92366512e-06 1.91834010e-06 1.91303716e-06 1.90775617e-06\n",
      " 1.90249703e-06 1.89725960e-06 1.89204377e-06 1.88684941e-06\n",
      " 1.88167642e-06 1.87652468e-06 1.87139406e-06 1.86628445e-06\n",
      " 1.86119574e-06 1.85612782e-06 1.85108057e-06 1.84605388e-06\n",
      " 1.84104763e-06 1.83606172e-06 1.83109604e-06 1.82615047e-06\n",
      " 1.82122492e-06 1.81631927e-06 1.81143341e-06 1.80656723e-06\n",
      " 1.80172064e-06 1.79689353e-06 1.79208579e-06 1.78729732e-06\n",
      " 1.78252802e-06 1.77777778e-06 1.77304650e-06 1.76833409e-06\n",
      " 1.76364044e-06 1.75896545e-06 1.75430902e-06 1.74967106e-06\n",
      " 1.74505147e-06 1.74045015e-06 1.73586700e-06 1.73130194e-06\n",
      " 1.72675486e-06 1.72222567e-06 1.71771427e-06 1.71322058e-06\n",
      " 1.70874450e-06 1.70428594e-06 1.69984480e-06 1.69542101e-06\n",
      " 1.69101446e-06 1.68662506e-06 1.68225274e-06 1.67789739e-06\n",
      " 1.67355894e-06 1.66923729e-06 1.66493236e-06 1.66064406e-06\n",
      " 1.65637231e-06 1.65211702e-06 1.64787811e-06 1.64365549e-06\n",
      " 1.63944908e-06 1.63525880e-06 1.63108456e-06 1.62692628e-06\n",
      " 1.62278389e-06 1.61865729e-06 1.61454642e-06 1.61045118e-06\n",
      " 1.60637151e-06 1.60230732e-06 1.59825854e-06 1.59422508e-06\n",
      " 1.59020687e-06 1.58620383e-06 1.58221589e-06 1.57824297e-06\n",
      " 1.57428500e-06 1.57034189e-06 1.56641359e-06 1.56250000e-06\n",
      " 1.55860106e-06 1.55471670e-06 1.55084684e-06 1.54699141e-06\n",
      " 1.54315034e-06 1.53932356e-06 1.53551100e-06 1.53171258e-06\n",
      " 1.52792824e-06 1.52415790e-06 1.52040151e-06 1.51665898e-06\n",
      " 1.51293026e-06 1.50921527e-06 1.50551394e-06 1.50182622e-06\n",
      " 1.49815203e-06 1.49449131e-06 1.49084398e-06 1.48720999e-06\n",
      " 1.48358928e-06 1.47998177e-06 1.47638740e-06 1.47280611e-06\n",
      " 1.46923783e-06 1.46568251e-06 1.46214008e-06 1.45861047e-06\n",
      " 1.45509363e-06 1.45158949e-06 1.44809800e-06 1.44461908e-06\n",
      " 1.44115269e-06 1.43769876e-06 1.43425723e-06 1.43082805e-06\n",
      " 1.42741115e-06 1.42400647e-06 1.42061396e-06 1.41723356e-06\n",
      " 1.41386521e-06 1.41050886e-06 1.40716444e-06 1.40383190e-06\n",
      " 1.40051119e-06 1.39720224e-06 1.39390501e-06 1.39061944e-06\n",
      " 1.38734547e-06 1.38408304e-06 1.38083212e-06 1.37759263e-06\n",
      " 1.37436453e-06 1.37114776e-06 1.36794227e-06 1.36474801e-06\n",
      " 1.36156493e-06 1.35839297e-06 1.35523208e-06 1.35208221e-06\n",
      " 1.34894331e-06 1.34581532e-06 1.34269821e-06 1.33959191e-06\n",
      " 1.33649637e-06 1.33341156e-06 1.33033741e-06 1.32727389e-06\n",
      " 1.32422093e-06 1.32117849e-06 1.31814653e-06 1.31512499e-06\n",
      " 1.31211383e-06 1.30911300e-06 1.30612245e-06 1.30314214e-06\n",
      " 1.30017201e-06 1.29721203e-06 1.29426215e-06 1.29132231e-06\n",
      " 1.28839249e-06 1.28547262e-06 1.28256266e-06 1.27966258e-06\n",
      " 1.27677232e-06 1.27389184e-06 1.27102110e-06 1.26816005e-06\n",
      " 1.26530865e-06 1.26246686e-06 1.25963463e-06 1.25681192e-06\n",
      " 1.25399869e-06 1.25119489e-06 1.24840049e-06 1.24561543e-06\n",
      " 1.24283969e-06 1.24007321e-06 1.23731596e-06 1.23456790e-06\n",
      " 1.23182898e-06 1.22909917e-06 1.22637842e-06 1.22366669e-06\n",
      " 1.22096395e-06 1.21827015e-06 1.21558526e-06 1.21290924e-06\n",
      " 1.21024204e-06 1.20758363e-06 1.20493396e-06 1.20229301e-06\n",
      " 1.19966074e-06 1.19703709e-06 1.19442205e-06 1.19181556e-06\n",
      " 1.18921760e-06 1.18662812e-06 1.18404710e-06 1.18147448e-06\n",
      " 1.17891024e-06 1.17635434e-06 1.17380674e-06 1.17126741e-06\n",
      " 1.16873630e-06 1.16621340e-06 1.16369865e-06 1.16119203e-06\n",
      " 1.15869350e-06 1.15620303e-06 1.15372058e-06 1.15124611e-06\n",
      " 1.14877959e-06 1.14632100e-06 1.14387029e-06 1.14142742e-06\n",
      " 1.13899238e-06 1.13656512e-06 1.13414561e-06 1.13173382e-06\n",
      " 1.12932971e-06 1.12693325e-06 1.12454442e-06 1.12216317e-06\n",
      " 1.11978948e-06 1.11742331e-06 1.11506463e-06 1.11271342e-06\n",
      " 1.11036963e-06 1.10803324e-06 1.10570422e-06 1.10338253e-06\n",
      " 1.10106815e-06 1.09876104e-06 1.09646117e-06 1.09416852e-06\n",
      " 1.09188305e-06 1.08960473e-06 1.08733354e-06 1.08506944e-06\n",
      " 1.08281241e-06 1.08056241e-06 1.07831942e-06 1.07608340e-06\n",
      " 1.07385433e-06 1.07163218e-06 1.06941692e-06 1.06720852e-06\n",
      " 1.06500696e-06 1.06281220e-06 1.06062422e-06 1.05844299e-06\n",
      " 1.05626848e-06 1.05410066e-06 1.05193951e-06 1.04978500e-06\n",
      " 1.04763711e-06 1.04549580e-06 1.04336104e-06 1.04123282e-06\n",
      " 1.03911110e-06 1.03699586e-06 1.03488708e-06 1.03278472e-06\n",
      " 1.03068876e-06 1.02859917e-06 1.02651593e-06 1.02443902e-06\n",
      " 1.02236840e-06 1.02030405e-06 1.01824595e-06 1.01619407e-06\n",
      " 1.01414838e-06 1.01210887e-06 1.01007550e-06 1.00804826e-06\n",
      " 1.00602711e-06 1.00401203e-06 1.00200300e-06 1.00000000e-06]\n"
     ]
    }
   ],
   "source": [
    "n=np.linspace(1,1000,1000)**-2\n",
    "print(n)"
   ],
   "metadata": {
    "collapsed": false,
    "pycharm": {
     "name": "#%%\n"
    }
   }
  },
  {
   "cell_type": "code",
   "execution_count": 67,
   "outputs": [
    {
     "data": {
      "text/plain": "1.6439345666815601"
     },
     "execution_count": 67,
     "metadata": {},
     "output_type": "execute_result"
    }
   ],
   "source": [
    "np.sum(n)"
   ],
   "metadata": {
    "collapsed": false,
    "pycharm": {
     "name": "#%%\n"
    }
   }
  },
  {
   "cell_type": "markdown",
   "source": [
    "Check the answer by using loop"
   ],
   "metadata": {
    "collapsed": false,
    "pycharm": {
     "name": "#%% md\n"
    }
   }
  },
  {
   "cell_type": "code",
   "execution_count": 68,
   "outputs": [
    {
     "name": "stdout",
     "output_type": "stream",
     "text": [
      "1.6439345666815615\n"
     ]
    }
   ],
   "source": [
    "sum_1 = 0\n",
    "for i in range(1,1001):\n",
    "    sum_1+=i**-2\n",
    "print(sum_1)"
   ],
   "metadata": {
    "collapsed": false,
    "pycharm": {
     "name": "#%%\n"
    }
   }
  },
  {
   "cell_type": "markdown",
   "source": [
    "Problem 2a"
   ],
   "metadata": {
    "collapsed": false,
    "pycharm": {
     "name": "#%% md\n"
    }
   }
  },
  {
   "cell_type": "code",
   "execution_count": 69,
   "outputs": [
    {
     "name": "stdout",
     "output_type": "stream",
     "text": [
      "318.826833481427\n"
     ]
    }
   ],
   "source": [
    "sum_2a=0\n",
    "for i in range (1,1001):\n",
    "    if np.sin(i)>0:\n",
    "        sum_2a+=np.sin(i)\n",
    "print(sum_2a)"
   ],
   "metadata": {
    "collapsed": false,
    "pycharm": {
     "name": "#%%\n"
    }
   }
  },
  {
   "cell_type": "markdown",
   "source": [
    "Problem 2b"
   ],
   "metadata": {
    "collapsed": false,
    "pycharm": {
     "name": "#%% md\n"
    }
   }
  },
  {
   "cell_type": "code",
   "execution_count": 70,
   "outputs": [],
   "source": [
    "sins=np.sin(np.linspace(1,1000,1000))"
   ],
   "metadata": {
    "collapsed": false,
    "pycharm": {
     "name": "#%%\n"
    }
   }
  },
  {
   "cell_type": "code",
   "execution_count": 71,
   "outputs": [],
   "source": [
    "positives=sins[sins>0]"
   ],
   "metadata": {
    "collapsed": false,
    "pycharm": {
     "name": "#%%\n"
    }
   }
  },
  {
   "cell_type": "code",
   "execution_count": 72,
   "outputs": [
    {
     "name": "stdout",
     "output_type": "stream",
     "text": [
      "318.8268334814268\n"
     ]
    }
   ],
   "source": [
    "print(np.sum(positives))"
   ],
   "metadata": {
    "collapsed": false,
    "pycharm": {
     "name": "#%%\n"
    }
   }
  },
  {
   "cell_type": "markdown",
   "source": [
    "Problem 3a"
   ],
   "metadata": {
    "collapsed": false,
    "pycharm": {
     "name": "#%% md\n"
    }
   }
  },
  {
   "cell_type": "code",
   "execution_count": 73,
   "outputs": [],
   "source": [
    "def x(t, a, gamma, omega_0, phi):\n",
    "    omega=(omega_0**2-gamma**2/4)**0.5\n",
    "    return a*np.e**(-gamma*t/2)*np.cos(omega*t+phi)"
   ],
   "metadata": {
    "collapsed": false,
    "pycharm": {
     "name": "#%%\n"
    }
   }
  },
  {
   "cell_type": "markdown",
   "source": [
    "Problem 3b"
   ],
   "metadata": {
    "collapsed": false,
    "pycharm": {
     "name": "#%% md\n"
    }
   }
  },
  {
   "cell_type": "code",
   "execution_count": 74,
   "outputs": [],
   "source": [
    "time = np.linspace(1,1000,1000)/100"
   ],
   "metadata": {
    "collapsed": false,
    "pycharm": {
     "name": "#%%\n"
    }
   }
  },
  {
   "cell_type": "code",
   "execution_count": 75,
   "outputs": [],
   "source": [
    "displacement = x(time,1,1,1,-np.pi/2)"
   ],
   "metadata": {
    "collapsed": false,
    "pycharm": {
     "name": "#%%\n"
    }
   }
  },
  {
   "cell_type": "code",
   "execution_count": 76,
   "outputs": [
    {
     "name": "stdout",
     "output_type": "stream",
     "text": [
      "0.47310347814336845\n"
     ]
    }
   ],
   "source": [
    "print(np.max(displacement))"
   ],
   "metadata": {
    "collapsed": false,
    "pycharm": {
     "name": "#%%\n"
    }
   }
  },
  {
   "cell_type": "code",
   "execution_count": 77,
   "outputs": [
    {
     "data": {
      "text/plain": "<Figure size 432x288 with 1 Axes>",
      "image/png": "[encoded data removed]"
     },
     "metadata": {
      "needs_background": "light"
     },
     "output_type": "display_data"
    }
   ],
   "source": [
    "import matplotlib.pyplot as plt\n",
    "\n",
    "plt.plot(time, displacement, color =\"red\")\n",
    "plt.show()"
   ],
   "metadata": {
    "collapsed": false,
    "pycharm": {
     "name": "#%%\n"
    }
   }
  },
  {
   "cell_type": "code",
   "execution_count": 77,
   "outputs": [],
   "source": [],
   "metadata": {
    "collapsed": false,
    "pycharm": {
     "name": "#%%\n"
    }
   }
  }
 ],
 "metadata": {
  "kernelspec": {
   "display_name": "Python 3",
   "language": "python",
   "name": "python3"
  },
  "language_info": {
   "codemirror_mode": {
    "name": "ipython",
    "version": 2
   },
   "file_extension": ".py",
   "mimetype": "text/x-python",
   "name": "python",
   "nbconvert_exporter": "python",
   "pygments_lexer": "ipython2",
   "version": "2.7.6"
  }
 },
 "nbformat": 4,
 "nbformat_minor": 0
}