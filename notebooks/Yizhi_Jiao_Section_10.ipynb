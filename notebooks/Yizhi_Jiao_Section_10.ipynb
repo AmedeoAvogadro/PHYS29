{
 "cells": [
  {
   "cell_type": "code",
   "execution_count": 89,
   "metadata": {
    "collapsed": true,
    "pycharm": {
     "name": "#%%\n"
    }
   },
   "outputs": [],
   "source": [
    "import numpy as np\n",
    "from scipy import optimize\n",
    "from matplotlib import pyplot as plt"
   ]
  },
  {
   "cell_type": "code",
   "execution_count": 90,
   "outputs": [],
   "source": [
    "data = np.loadtxt('cosmic_microwave_background.txt')"
   ],
   "metadata": {
    "collapsed": false,
    "pycharm": {
     "name": "#%%\n"
    }
   }
  },
  {
   "cell_type": "code",
   "execution_count": 91,
   "outputs": [
    {
     "data": {
      "text/plain": "Text(0, 0.5, '$B_\\\\nu$')"
     },
     "execution_count": 91,
     "metadata": {},
     "output_type": "execute_result"
    },
    {
     "data": {
      "text/plain": "<Figure size 432x288 with 1 Axes>",
      "image/png": "[encoded data removed]"
     },
     "metadata": {
      "needs_background": "light"
     },
     "output_type": "display_data"
    }
   ],
   "source": [
    "plt.errorbar(data[:,0],data[:,1],yerr=data[:,2]*500, linestyle=' ', marker='o',markersize=3)\n",
    "plt.xlabel('$\\\\nu$')\n",
    "plt.ylabel('$B_\\\\nu$')"
   ],
   "metadata": {
    "collapsed": false,
    "pycharm": {
     "name": "#%%\n"
    }
   }
  },
  {
   "cell_type": "code",
   "execution_count": 92,
   "outputs": [],
   "source": [
    "h = 6.62607004e-34\n",
    "c = 2.99792458e8\n",
    "k = 1.38064852e-23\n",
    "nu = data[:,0]\n",
    "b = data[:,1]\n",
    "yerr = data[:,2]\n",
    "def bnu(nu, T):\n",
    "    return 2*h*nu**3/c**2/(np.exp(h*nu/k/T)-1)"
   ],
   "metadata": {
    "collapsed": false,
    "pycharm": {
     "name": "#%%\n"
    }
   }
  },
  {
   "cell_type": "code",
   "execution_count": 93,
   "outputs": [],
   "source": [
    "parameter, covarience = optimize.curve_fit(bnu, nu, b, sigma=yerr)"
   ],
   "metadata": {
    "collapsed": false,
    "pycharm": {
     "name": "#%%\n"
    }
   }
  },
  {
   "cell_type": "code",
   "execution_count": 94,
   "outputs": [
    {
     "name": "stdout",
     "output_type": "stream",
     "text": [
      "best fit temperature:  2.72501466 K\n",
      "uncertainty: 6.75400203e-11\n"
     ]
    }
   ],
   "source": [
    "print('best fit temperature: ', str(parameter).strip('[').strip(']'),'K\\nuncertainty:', str(covarience).strip('[').strip(']'))"
   ],
   "metadata": {
    "collapsed": false,
    "pycharm": {
     "name": "#%%\n"
    }
   }
  },
  {
   "cell_type": "code",
   "execution_count": 95,
   "outputs": [
    {
     "data": {
      "text/plain": "Text(0, 0.5, '$B_\\\\nu$')"
     },
     "execution_count": 95,
     "metadata": {},
     "output_type": "execute_result"
    },
    {
     "data": {
      "text/plain": "<Figure size 432x288 with 1 Axes>",
      "image/png": "[encoded data removed]"
     },
     "metadata": {
      "needs_background": "light"
     },
     "output_type": "display_data"
    }
   ],
   "source": [
    "plt.errorbar(data[:,0],data[:,1],yerr=data[:,2]*500, linestyle=' ', marker='o',markersize=3)\n",
    "plt.plot(nu, bnu(nu, parameter))\n",
    "plt.xlabel('$\\\\nu$')\n",
    "plt.ylabel('$B_\\\\nu$')"
   ],
   "metadata": {
    "collapsed": false,
    "pycharm": {
     "name": "#%%\n"
    }
   }
  },
  {
   "cell_type": "code",
   "execution_count": 96,
   "outputs": [
    {
     "data": {
      "text/plain": "Text(0, 0.5, 'y')"
     },
     "execution_count": 96,
     "metadata": {},
     "output_type": "execute_result"
    },
    {
     "data": {
      "text/plain": "<Figure size 432x288 with 1 Axes>",
      "image/png": "[encoded data removed]"
     },
     "metadata": {
      "needs_background": "light"
     },
     "output_type": "display_data"
    }
   ],
   "source": [
    "data = np.loadtxt('Sec10problem2.txt')\n",
    "t = data[:,0]\n",
    "y = data[:,1]\n",
    "err = data[:,2]\n",
    "plt.errorbar(t, y, yerr=err, linestyle=' ', marker='o')\n",
    "plt.xlabel('t')\n",
    "plt.ylabel('y')"
   ],
   "metadata": {
    "collapsed": false,
    "pycharm": {
     "name": "#%%\n"
    }
   }
  },
  {
   "cell_type": "code",
   "execution_count": 97,
   "outputs": [
    {
     "name": "stdout",
     "output_type": "stream",
     "text": [
      "Parameters:\n",
      " [2.00652843 2.0744747  0.65874325] \n",
      "Covariance:\n",
      " [[ 0.04855534 -0.00039454  0.00157843]\n",
      " [-0.00039454  0.00178945 -0.01016463]\n",
      " [ 0.00157843 -0.01016463  0.07020448]]\n"
     ]
    }
   ],
   "source": [
    "def model(t, amp, omega, phi):\n",
    "    return amp*np.cos(omega*t+phi)\n",
    "par, var = optimize.curve_fit(model, t, y, sigma=err,p0=(np.pi,2,0))\n",
    "print('Parameters:\\n', str(par),'\\nCovariance:\\n', str(var))"
   ],
   "metadata": {
    "collapsed": false,
    "pycharm": {
     "name": "#%%\n"
    }
   }
  },
  {
   "cell_type": "code",
   "execution_count": 98,
   "outputs": [
    {
     "name": "stdout",
     "output_type": "stream",
     "text": [
      "A = 2.00652842790873 \n",
      "with standard deviation of 0.22035276725477887 \n",
      "omega = 2.0744747032686712 \n",
      "with standard deviation of 0.22035276725477887 \n",
      "phi = 0.6587432472955884 \n",
      "with standard deviation of 0.22035276725477887\n"
     ]
    }
   ],
   "source": [
    "print('A =',par[0], '\\nwith standard deviation of',np.sqrt(var[0,0]),'\\nomega =',par[1], '\\nwith standard deviation of',np.sqrt(var[0,0]),'\\nphi =',par[2], '\\nwith standard deviation of',np.sqrt(var[0,0]),)"
   ],
   "metadata": {
    "collapsed": false,
    "pycharm": {
     "name": "#%%\n"
    }
   }
  },
  {
   "cell_type": "code",
   "execution_count": 99,
   "outputs": [
    {
     "data": {
      "text/plain": "Text(0, 0.5, 'y')"
     },
     "execution_count": 99,
     "metadata": {},
     "output_type": "execute_result"
    },
    {
     "data": {
      "text/plain": "<Figure size 432x288 with 1 Axes>",
      "image/png": "[encoded data removed]"
     },
     "metadata": {
      "needs_background": "light"
     },
     "output_type": "display_data"
    }
   ],
   "source": [
    "plt.errorbar(t, y, yerr=err, linestyle=' ', marker='o')\n",
    "plt.plot(np.linspace(0,10), model(np.linspace(0,10), par[0], par[1], par[2]))\n",
    "plt.xlabel('t')\n",
    "plt.ylabel('y')"
   ],
   "metadata": {
    "collapsed": false,
    "pycharm": {
     "name": "#%%\n"
    }
   }
  },
  {
   "cell_type": "code",
   "execution_count": 99,
   "outputs": [],
   "source": [],
   "metadata": {
    "collapsed": false,
    "pycharm": {
     "name": "#%%\n"
    }
   }
  }
 ],
 "metadata": {
  "kernelspec": {
   "display_name": "Python 3",
   "language": "python",
   "name": "python3"
  },
  "language_info": {
   "codemirror_mode": {
    "name": "ipython",
    "version": 2
   },
   "file_extension": ".py",
   "mimetype": "text/x-python",
   "name": "python",
   "nbconvert_exporter": "python",
   "pygments_lexer": "ipython2",
   "version": "2.7.6"
  }
 },
 "nbformat": 4,
 "nbformat_minor": 0
}